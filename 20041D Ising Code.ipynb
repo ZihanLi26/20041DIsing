{
 "cells": [
  {
   "cell_type": "markdown",
   "id": "872dced8",
   "metadata": {},
   "source": [
    "# Simulation of 1D Ising Model"
   ]
  },
  {
   "cell_type": "markdown",
   "id": "3837c707",
   "metadata": {},
   "source": [
    "## The method is from paper 2004 1D Ising Model"
   ]
  },
  {
   "cell_type": "markdown",
   "id": "ecef9399",
   "metadata": {},
   "source": [
    "### Method 1: Combination of Classical and Quantum Algorithm"
   ]
  },
  {
   "cell_type": "code",
   "execution_count": 1,
   "id": "f643d18b",
   "metadata": {},
   "outputs": [],
   "source": [
    "import numpy as np\n",
    "import random\n",
    "from qiskit import QuantumCircuit, QuantumRegister, ClassicalRegister, execute, Aer\n",
    "import matplotlib.pyplot as plt\n",
    "from time import time"
   ]
  },
  {
   "cell_type": "code",
   "execution_count": 22,
   "id": "00dcc411",
   "metadata": {},
   "outputs": [
    {
     "name": "stdout",
     "output_type": "stream",
     "text": [
      "[-1, 1, -1, 1, -1]\n"
     ]
    }
   ],
   "source": [
    "# Set Parameters\n",
    "J = 1 # Coupling Strength\n",
    "T = 1 # Temperature\n",
    "\n",
    "# Calculate the Possibility\n",
    "P = np.exp(-4 * J / T)\n",
    "\n",
    "# Initialize the spins. This might be able to performed through quantum algorithms.\n",
    "n = 5\n",
    "spins = [1, -1, 1, -1, 1]\n",
    "# This is a test with definite answer (probability will not be referred to when flipping. The answer should be [-1,1,-1,1,-1])\n",
    "\n",
    "# Initialize the circuit\n",
    "q = QuantumRegister(5)\n",
    "c = ClassicalRegister(1)\n",
    "qc = QuantumCircuit(q, c)\n",
    "\n",
    "\"\"\"\n",
    "For every loop, the program takes 3 spins from position i-1, i, and i+1 of the spins list. The program will then apply the Ising \n",
    "interaction on the spin at position i. After the ising interaction, the update spins is stored back to the spins list. The same \n",
    "process then repeated. If we don't consider the 1-dimensional ising model to be arranged in a circular shape (that is, the head spin\n",
    "is not in neighbour with the tail spin), the program will apply ising interaction on all the spins except the first one and the last one.\n",
    "\"\"\"\n",
    "\n",
    "\n",
    "\"\"\"\n",
    "In the following code, q[0] represents the spin i, q[1] represents the spins i-1, q[2] represents the spins i+1,\n",
    "q[3] stands for the scratch qubit which will always be |0>, and q[4] represents the possibility to flip if change in energy is positive.\n",
    "\"\"\"\n",
    "for i in range (0, len(spins)):\n",
    "    # Set the scratch and possibility qubits\n",
    "    qc.reset(q[3])\n",
    "    qc.reset(q[4])\n",
    "    qc.u(2 * np.arccos(np.sqrt(1 - P)), 0, 0, q[4])\n",
    "    \n",
    "    #Set up the qubits\n",
    "    if spins[i] == 1:\n",
    "        qc.x(q[0])\n",
    "    else:\n",
    "        qc.reset(q[0])\n",
    "    \n",
    "    if spins[i - 1] == 1:\n",
    "        qc.x(q[1])\n",
    "    else:\n",
    "        qc.reset(q[1])\n",
    "    \n",
    "    if spins[(i + 1) % len(spins)] == 1:\n",
    "        qc.x(q[2])\n",
    "    else:\n",
    "        qc.reset(q[2])\n",
    "    \n",
    "    # Apply Ising Interaction (In a 'conservative' way, the code can be modified to be more efficient)\n",
    "    # Operation 1\n",
    "    qc.mcx([q[0], q[1], q[2]], q[3]) \n",
    "    \n",
    "    #Operation 2\n",
    "    for j in range(3):\n",
    "        qc.x(q[j])\n",
    "    qc.mcx([q[0], q[1], q[2]], q[3])\n",
    "    for j in range(3):\n",
    "        qc.x(q[j])\n",
    "    \n",
    "    # Operation 3\n",
    "    qc.x(q[3])\n",
    "    qc.cx(q[3], q[0])\n",
    "    qc.x(q[3])\n",
    "    \n",
    "    # Operation 4\n",
    "    qc.ccx(q[4], q[3], q[0])\n",
    "    \n",
    "    # Measurement\n",
    "    qc.measure(q[0], c)\n",
    "    backend = Aer.get_backend('qasm_simulator')\n",
    "    shots = 1024\n",
    "    results = execute(qc, backend, shots=shots).result()\n",
    "    counts = results.get_counts()\n",
    "    \n",
    "    # Update spin i\n",
    "    if len(counts.keys()) == 1:\n",
    "        newstat = int(list(counts.keys())[0])\n",
    "    else:\n",
    "        if list(counts.values())[0] > list(counts.values())[1]:\n",
    "            newstat = int(list(counts.keys())[0])\n",
    "        else:\n",
    "            newstat = int(list(counts.keys())[1])\n",
    "    if newstat == 1:\n",
    "        spins[i] = 1\n",
    "    elif newstat == 0:\n",
    "        spins[i] = -1\n",
    "    \n",
    "    for j in range(5):\n",
    "        qc.reset(q[j])\n",
    "\n",
    "print(spins)"
   ]
  },
  {
   "cell_type": "markdown",
   "id": "86a4e2f0",
   "metadata": {},
   "source": [
    "### Comparison of Classical 1D Ising Model and with Classic + Quantum Method"
   ]
  },
  {
   "cell_type": "markdown",
   "id": "e4842e6c",
   "metadata": {},
   "source": [
    "#### Traditional Method (in random order)"
   ]
  },
  {
   "cell_type": "code",
   "execution_count": 20,
   "id": "d6a6f3fe",
   "metadata": {},
   "outputs": [
    {
     "name": "stdout",
     "output_type": "stream",
     "text": [
      "6.7978198528289795 seconds\n",
      "{'[1, 1, 1, 1]': 119, '[1, 1, 1, -1]': 52, '[1, 1, -1, 1]': 49, '[1, 1, -1, -1]': 60, '[1, -1, 1, 1]': 63, '[1, -1, 1, -1]': 33, '[1, -1, -1, 1]': 49, '[1, -1, -1, -1]': 50, '[-1, 1, 1, 1]': 65, '[-1, 1, 1, -1]': 71, '[-1, 1, -1, 1]': 28, '[-1, 1, -1, -1]': 65, '[-1, -1, 1, 1]': 64, '[-1, -1, 1, -1]': 68, '[-1, -1, -1, 1]': 61, '[-1, -1, -1, -1]': 103}\n"
     ]
    },
    {
     "data": {
      "text/plain": [
       "([<matplotlib.axis.XTick at 0x1e4865c5fa0>,\n",
       "  <matplotlib.axis.XTick at 0x1e4865c5850>,\n",
       "  <matplotlib.axis.XTick at 0x1e4862b55b0>,\n",
       "  <matplotlib.axis.XTick at 0x1e410e04220>,\n",
       "  <matplotlib.axis.XTick at 0x1e410df7940>,\n",
       "  <matplotlib.axis.XTick at 0x1e410ddac40>,\n",
       "  <matplotlib.axis.XTick at 0x1e410ddad00>,\n",
       "  <matplotlib.axis.XTick at 0x1e410dda370>,\n",
       "  <matplotlib.axis.XTick at 0x1e410df7cd0>,\n",
       "  <matplotlib.axis.XTick at 0x1e410e82730>,\n",
       "  <matplotlib.axis.XTick at 0x1e410e822b0>,\n",
       "  <matplotlib.axis.XTick at 0x1e410e1f580>,\n",
       "  <matplotlib.axis.XTick at 0x1e410e1f490>,\n",
       "  <matplotlib.axis.XTick at 0x1e410e37340>,\n",
       "  <matplotlib.axis.XTick at 0x1e410e1f3a0>,\n",
       "  <matplotlib.axis.XTick at 0x1e410e82550>],\n",
       " [Text(0, 0, ''),\n",
       "  Text(0, 0, ''),\n",
       "  Text(0, 0, ''),\n",
       "  Text(0, 0, ''),\n",
       "  Text(0, 0, ''),\n",
       "  Text(0, 0, ''),\n",
       "  Text(0, 0, ''),\n",
       "  Text(0, 0, ''),\n",
       "  Text(0, 0, ''),\n",
       "  Text(0, 0, ''),\n",
       "  Text(0, 0, ''),\n",
       "  Text(0, 0, ''),\n",
       "  Text(0, 0, ''),\n",
       "  Text(0, 0, ''),\n",
       "  Text(0, 0, ''),\n",
       "  Text(0, 0, '')])"
      ]
     },
     "execution_count": 20,
     "metadata": {},
     "output_type": "execute_result"
    },
    {
     "data": {
      "image/png": "[encoded data removed]",
      "text/plain": [
       "<Figure size 640x480 with 1 Axes>"
      ]
     },
     "metadata": {},
     "output_type": "display_data"
    }
   ],
   "source": [
    "N = 4\n",
    "J = -0.25*np.log(0.5)\n",
    "T = 1\n",
    "\n",
    "def energy(spin, J):\n",
    "    E = 0\n",
    "    for i in range(0, len(spin)):\n",
    "        E += spin[i-1] * spin[i]\n",
    "    E = -J * E\n",
    "    return E\n",
    "\n",
    "def deltaE(spin, ind, J):\n",
    "    temp = spin.copy()\n",
    "    temp[ind] = temp[ind] * (-1)\n",
    "    dE = energy(temp, J) - energy(spin, J)\n",
    "    return dE\n",
    "\n",
    "dyct = {'[1, 1, 1, 1]':0, '[1, 1, 1, -1]':0, '[1, 1, -1, 1]':0, '[1, 1, -1, -1]':0,\n",
    "       '[1, -1, 1, 1]':0, '[1, -1, 1, -1]':0, '[1, -1, -1, 1]':0, '[1, -1, -1, -1]':0,\n",
    "       '[-1, 1, 1, 1]':0, '[-1, 1, 1, -1]':0, '[-1, 1, -1, 1]':0, '[-1, 1, -1, -1]':0,\n",
    "       '[-1, -1, 1, 1]':0, '[-1, -1, 1, -1]':0, '[-1, -1, -1, 1]':0, '[-1, -1, -1, -1]':0,}\n",
    "\n",
    "start = time()\n",
    "for j in range(1000):\n",
    "    \n",
    "    spins = [1, 1, 1, 1]\n",
    "    \n",
    "    for i in range (1000):\n",
    "        index = random.randint(0, N-1)\n",
    "        if deltaE(spins, index, J) <= 0 or ((deltaE(spins, index, J) > 0 and random.random() < np.exp(-deltaE(spins, index, J)/T))):\n",
    "            spins[index] = spins[index] * (-1)\n",
    "    dyct[str(spins)] = dyct[str(spins)] + 1\n",
    "\n",
    "print(float(time() - start), 'seconds')\n",
    "print(dyct)\n",
    "plt.bar(dyct.keys(), dyct.values())\n",
    "plt.xticks(ticks = list(dyct.keys()), rotation = 315)"
   ]
  },
  {
   "cell_type": "markdown",
   "id": "cff0f2cd",
   "metadata": {},
   "source": [
    "#### Classic + Quantum Method (in random order)"
   ]
  },
  {
   "cell_type": "code",
   "execution_count": 3,
   "id": "752fefa0",
   "metadata": {},
   "outputs": [],
   "source": [
    "def randomindex():\n",
    "    tempq = QuantumRegister(2)\n",
    "    tempc = ClassicalRegister(2)\n",
    "    circ = QuantumCircuit(tempq, tempc)\n",
    "    circ.h(tempq[0])\n",
    "    circ.h(tempq[1])\n",
    "    circ.measure(tempq, tempc)\n",
    "    backend = Aer.get_backend('qasm_simulator')\n",
    "    shots = 1024\n",
    "    results = execute(circ, backend, shots=shots).result()\n",
    "    counts = results.get_counts()\n",
    "    \n",
    "    if list(counts.keys())[0] == '00':\n",
    "        return 0\n",
    "    elif list(counts.keys())[0] == '01':\n",
    "        return 1\n",
    "    elif list(counts.keys())[0] == '10':\n",
    "        return 2\n",
    "    elif list(counts.keys())[0] == '11':\n",
    "        return 3"
   ]
  },
  {
   "cell_type": "code",
   "execution_count": 30,
   "id": "92cc4096",
   "metadata": {},
   "outputs": [
    {
     "name": "stdout",
     "output_type": "stream",
     "text": [
      "12014.936329126358 seconds\n",
      "{'[1, 1, 1, 1]': 124, '[1, 1, 1, -1]': 53, '[1, 1, -1, 1]': 63, '[1, 1, -1, -1]': 62, '[1, -1, 1, 1]': 61, '[1, -1, 1, -1]': 37, '[1, -1, -1, 1]': 43, '[1, -1, -1, -1]': 50, '[-1, 1, 1, 1]': 57, '[-1, 1, 1, -1]': 55, '[-1, 1, -1, 1]': 25, '[-1, 1, -1, -1]': 61, '[-1, -1, 1, 1]': 71, '[-1, -1, 1, -1]': 50, '[-1, -1, -1, 1]': 63, '[-1, -1, -1, -1]': 125}\n"
     ]
    },
    {
     "data": {
      "text/plain": [
       "([<matplotlib.axis.XTick at 0x1e486b48ac0>,\n",
       "  <matplotlib.axis.XTick at 0x1e486b48a60>,\n",
       "  <matplotlib.axis.XTick at 0x1e4866e13d0>,\n",
       "  <matplotlib.axis.XTick at 0x1e486b54730>,\n",
       "  <matplotlib.axis.XTick at 0x1e486b546a0>,\n",
       "  <matplotlib.axis.XTick at 0x1e4866a3e80>,\n",
       "  <matplotlib.axis.XTick at 0x1e4866a3af0>,\n",
       "  <matplotlib.axis.XTick at 0x1e48669c790>,\n",
       "  <matplotlib.axis.XTick at 0x1e48669c520>,\n",
       "  <matplotlib.axis.XTick at 0x1e486ccc9d0>,\n",
       "  <matplotlib.axis.XTick at 0x1e4866a5730>,\n",
       "  <matplotlib.axis.XTick at 0x1e4866a5610>,\n",
       "  <matplotlib.axis.XTick at 0x1e486b74a00>,\n",
       "  <matplotlib.axis.XTick at 0x1e4866a5430>,\n",
       "  <matplotlib.axis.XTick at 0x1e48669cdf0>,\n",
       "  <matplotlib.axis.XTick at 0x1e486b747c0>],\n",
       " [Text(0, 0, ''),\n",
       "  Text(0, 0, ''),\n",
       "  Text(0, 0, ''),\n",
       "  Text(0, 0, ''),\n",
       "  Text(0, 0, ''),\n",
       "  Text(0, 0, ''),\n",
       "  Text(0, 0, ''),\n",
       "  Text(0, 0, ''),\n",
       "  Text(0, 0, ''),\n",
       "  Text(0, 0, ''),\n",
       "  Text(0, 0, ''),\n",
       "  Text(0, 0, ''),\n",
       "  Text(0, 0, ''),\n",
       "  Text(0, 0, ''),\n",
       "  Text(0, 0, ''),\n",
       "  Text(0, 0, '')])"
      ]
     },
     "execution_count": 30,
     "metadata": {},
     "output_type": "execute_result"
    },
    {
     "data": {
      "image/png": "[encoded data removed]",
      "text/plain": [
       "<Figure size 640x480 with 1 Axes>"
      ]
     },
     "metadata": {},
     "output_type": "display_data"
    }
   ],
   "source": [
    "start = time()\n",
    "dyct = {'[1, 1, 1, 1]':0, '[1, 1, 1, -1]':0, '[1, 1, -1, 1]':0, '[1, 1, -1, -1]':0,\n",
    "       '[1, -1, 1, 1]':0, '[1, -1, 1, -1]':0, '[1, -1, -1, 1]':0, '[1, -1, -1, -1]':0,\n",
    "       '[-1, 1, 1, 1]':0, '[-1, 1, 1, -1]':0, '[-1, 1, -1, 1]':0, '[-1, 1, -1, -1]':0,\n",
    "       '[-1, -1, 1, 1]':0, '[-1, -1, 1, -1]':0, '[-1, -1, -1, 1]':0, '[-1, -1, -1, -1]':0,}\n",
    "\n",
    "# Set Parameters\n",
    "J = -0.25*np.log(0.5) # Coupling Strength\n",
    "T = 1 # Temperature\n",
    "\n",
    "# Calculate the Possibility\n",
    "P = np.exp(-4 * J / T)\n",
    "\n",
    "\n",
    "# Initialize the circuit\n",
    "q = QuantumRegister(5)\n",
    "c = ClassicalRegister(1)\n",
    "qc = QuantumCircuit(q, c)\n",
    "\n",
    "\"\"\"\n",
    "For every loop, the program takes 3 spins from position i-1, i, and i+1 of the spins list. The program will then apply the Ising \n",
    "interaction on the spin at position i. After the ising interaction, the update spins is stored back to the spins list. The same \n",
    "process then repeated. If we don't consider the 1-dimensional ising model to be arranged in a circular shape (that is, the head spin\n",
    "is not in neighbour with the tail spin), the program will apply ising interaction on all the spins except the first one and the last one.\n",
    "\"\"\"\n",
    "\n",
    "\n",
    "\"\"\"\n",
    "In the following code, q[0] represents the spin i, q[1] represents the spins i-1, q[2] represents the spins i+1,\n",
    "q[3] stands for the scratch qubit which will always be |0>, and q[4] represents the possibility to flip if change in energy is positive.\n",
    "\"\"\"\n",
    "\n",
    "n = 4\n",
    "\n",
    "for t in range(1000):\n",
    "    \n",
    "    spins = [1, 1, 1, 1]\n",
    "    \n",
    "    for i in range (1000):\n",
    "        \n",
    "        index = randomindex()\n",
    "        \n",
    "        qc = QuantumCircuit(q, c)\n",
    "        \n",
    "        qc.u(2 * np.arccos(np.sqrt(1 - P)), 0, 0, q[4])\n",
    "\n",
    "        if spins[index] == 1:\n",
    "            qc.x(q[0])\n",
    "            \n",
    "        if spins[index - 1] == 1:\n",
    "            qc.x(q[1])\n",
    "\n",
    "        if spins[(index + 1) % len(spins)] == 1:\n",
    "            qc.x(q[2])\n",
    "\n",
    "        # Operation 1\n",
    "        qc.mcx([q[0], q[1], q[2]], q[3]) \n",
    "\n",
    "        for j in range(3):\n",
    "            qc.x(q[j])\n",
    "        qc.mcx([q[0], q[1], q[2]], q[3])\n",
    "        for j in range(3):\n",
    "            qc.x(q[j])\n",
    "\n",
    "        qc.x(q[3])\n",
    "        qc.cx(q[3], q[0])\n",
    "        qc.x(q[3])\n",
    "\n",
    "        qc.ccx(q[4], q[3], q[0])\n",
    "\n",
    "        qc.measure(q[0], c)\n",
    "        backend = Aer.get_backend('qasm_simulator')\n",
    "        shots = 1024\n",
    "        results = execute(qc, backend, shots=shots).result()\n",
    "        counts = results.get_counts()\n",
    "\n",
    "        if len(counts.keys()) == 1:\n",
    "            newstat = int(list(counts.keys())[0])\n",
    "        else:\n",
    "            if list(counts.values())[0] > list(counts.values())[1]:\n",
    "                newstat = int(list(counts.keys())[0])\n",
    "            else:\n",
    "                newstat = int(list(counts.keys())[1])\n",
    "        if newstat == 1:\n",
    "            spins[index] = 1\n",
    "        elif newstat == 0:\n",
    "            spins[index] = -1\n",
    "    \n",
    "\n",
    "    dyct[str(spins)] = dyct[str(spins)] + 1\n",
    "\n",
    "print(float(time() - start), 'seconds')\n",
    "print(dyct)\n",
    "plt.bar(dyct.keys(), dyct.values())\n",
    "plt.xticks(ticks = list(dyct.keys()), rotation = 315)"
   ]
  },
  {
   "cell_type": "markdown",
   "id": "3c083cc7",
   "metadata": {},
   "source": [
    "#### Traditional Method (in fixed order)"
   ]
  },
  {
   "cell_type": "code",
   "execution_count": 27,
   "id": "a0053b03",
   "metadata": {},
   "outputs": [
    {
     "name": "stdout",
     "output_type": "stream",
     "text": [
      "0.014513015747070312 seconds\n",
      "{'[1, 1, 1, 1]': 56, '[1, 1, 1, -1]': 59, '[1, 1, -1, 1]': 0, '[1, 1, -1, -1]': 147, '[1, -1, 1, 1]': 0, '[1, -1, 1, -1]': 0, '[1, -1, -1, 1]': 0, '[1, -1, -1, -1]': 237, '[-1, 1, 1, 1]': 0, '[-1, 1, 1, -1]': 0, '[-1, 1, -1, 1]': 0, '[-1, 1, -1, -1]': 0, '[-1, -1, 1, 1]': 0, '[-1, -1, 1, -1]': 0, '[-1, -1, -1, 1]': 0, '[-1, -1, -1, -1]': 501}\n"
     ]
    },
    {
     "data": {
      "text/plain": [
       "([<matplotlib.axis.XTick at 0x16e3d1b5af0>,\n",
       "  <matplotlib.axis.XTick at 0x16e3d1b5ac0>,\n",
       "  <matplotlib.axis.XTick at 0x16e3d1b57c0>,\n",
       "  <matplotlib.axis.XTick at 0x16e3d4443a0>,\n",
       "  <matplotlib.axis.XTick at 0x16e3d444af0>,\n",
       "  <matplotlib.axis.XTick at 0x16e3d44a280>,\n",
       "  <matplotlib.axis.XTick at 0x16e3d44a9d0>,\n",
       "  <matplotlib.axis.XTick at 0x16e3d44aca0>,\n",
       "  <matplotlib.axis.XTick at 0x16e3d444ac0>,\n",
       "  <matplotlib.axis.XTick at 0x16e3d4503a0>,\n",
       "  <matplotlib.axis.XTick at 0x16e3d450af0>,\n",
       "  <matplotlib.axis.XTick at 0x16e3d457280>,\n",
       "  <matplotlib.axis.XTick at 0x16e3d4579d0>,\n",
       "  <matplotlib.axis.XTick at 0x16e3d45f160>,\n",
       "  <matplotlib.axis.XTick at 0x16e3d457c70>,\n",
       "  <matplotlib.axis.XTick at 0x16e3d450880>],\n",
       " [Text(0, 0, ''),\n",
       "  Text(0, 0, ''),\n",
       "  Text(0, 0, ''),\n",
       "  Text(0, 0, ''),\n",
       "  Text(0, 0, ''),\n",
       "  Text(0, 0, ''),\n",
       "  Text(0, 0, ''),\n",
       "  Text(0, 0, ''),\n",
       "  Text(0, 0, ''),\n",
       "  Text(0, 0, ''),\n",
       "  Text(0, 0, ''),\n",
       "  Text(0, 0, ''),\n",
       "  Text(0, 0, ''),\n",
       "  Text(0, 0, ''),\n",
       "  Text(0, 0, ''),\n",
       "  Text(0, 0, '')])"
      ]
     },
     "execution_count": 27,
     "metadata": {},
     "output_type": "execute_result"
    },
    {
     "data": {
      "image/png": "[encoded data removed]",
      "text/plain": [
       "<Figure size 640x480 with 1 Axes>"
      ]
     },
     "metadata": {},
     "output_type": "display_data"
    }
   ],
   "source": [
    "N = 4\n",
    "J = -0.25*np.log(0.5)\n",
    "T = 1\n",
    "\n",
    "def energy(spin, J):\n",
    "    E = 0\n",
    "    for i in range(0, len(spin)):\n",
    "        E += spin[i-1] * spin[i]\n",
    "    E = -J * E\n",
    "    return E\n",
    "\n",
    "def deltaE(spin, ind, J):\n",
    "    temp = spin.copy()\n",
    "    temp[ind] = temp[ind] * (-1)\n",
    "    dE = energy(temp, J) - energy(spin, J)\n",
    "    return dE\n",
    "\n",
    "start = time()\n",
    "dyct = {'[1, 1, 1, 1]':0, '[1, 1, 1, -1]':0, '[1, 1, -1, 1]':0, '[1, 1, -1, -1]':0,\n",
    "       '[1, -1, 1, 1]':0, '[1, -1, 1, -1]':0, '[1, -1, -1, 1]':0, '[1, -1, -1, -1]':0,\n",
    "       '[-1, 1, 1, 1]':0, '[-1, 1, 1, -1]':0, '[-1, 1, -1, 1]':0, '[-1, 1, -1, -1]':0,\n",
    "       '[-1, -1, 1, 1]':0, '[-1, -1, 1, -1]':0, '[-1, -1, -1, 1]':0, '[-1, -1, -1, -1]':0,}\n",
    "\n",
    "for j in range(1000):\n",
    "    spins = [1, 1, 1, 1]\n",
    "    for i in range(len(spins)):\n",
    "        index = i\n",
    "        if deltaE(spins, index, J) <= 0 or (deltaE(spins, index, J) > 0 and random.random() < np.exp(-deltaE(spins, index, J)/T)):\n",
    "            spins[index] = spins[index] * (-1)\n",
    "    dyct[str(spins)] = dyct[str(spins)] + 1\n",
    "\n",
    "print(float(time() - start), 'seconds')\n",
    "print(dyct)\n",
    "plt.bar(dyct.keys(), dyct.values())\n",
    "plt.xticks(ticks = list(dyct.keys()), rotation = 315)"
   ]
  },
  {
   "cell_type": "markdown",
   "id": "e839f5b8",
   "metadata": {},
   "source": [
    "#### Classic + Quantum Method (in fixed order)"
   ]
  },
  {
   "cell_type": "code",
   "execution_count": 52,
   "id": "8318bfb5",
   "metadata": {
    "scrolled": false
   },
   "outputs": [
    {
     "name": "stdout",
     "output_type": "stream",
     "text": [
      "37.51524543762207 seconds\n",
      "{'[1, 1, 1, 1]': 62, '[1, 1, 1, -1]': 76, '[1, 1, -1, 1]': 0, '[1, 1, -1, -1]': 131, '[1, -1, 1, 1]': 0, '[1, -1, 1, -1]': 0, '[1, -1, -1, 1]': 0, '[1, -1, -1, -1]': 244, '[-1, 1, 1, 1]': 0, '[-1, 1, 1, -1]': 0, '[-1, 1, -1, 1]': 0, '[-1, 1, -1, -1]': 0, '[-1, -1, 1, 1]': 0, '[-1, -1, 1, -1]': 0, '[-1, -1, -1, 1]': 0, '[-1, -1, -1, -1]': 487}\n"
     ]
    },
    {
     "data": {
      "text/plain": [
       "([<matplotlib.axis.XTick at 0x1b38b47ad30>,\n",
       "  <matplotlib.axis.XTick at 0x1b38b47a2e0>,\n",
       "  <matplotlib.axis.XTick at 0x1b38b8ca310>,\n",
       "  <matplotlib.axis.XTick at 0x1b38a2a1d90>,\n",
       "  <matplotlib.axis.XTick at 0x1b38ba9cf10>,\n",
       "  <matplotlib.axis.XTick at 0x1b38ba9c580>,\n",
       "  <matplotlib.axis.XTick at 0x1b38a2b2f10>,\n",
       "  <matplotlib.axis.XTick at 0x1b38ba9cc10>,\n",
       "  <matplotlib.axis.XTick at 0x1b38a2b22b0>,\n",
       "  <matplotlib.axis.XTick at 0x1b38b2eb730>,\n",
       "  <matplotlib.axis.XTick at 0x1b38b2eb610>,\n",
       "  <matplotlib.axis.XTick at 0x1b38b301280>,\n",
       "  <matplotlib.axis.XTick at 0x1b38b301310>,\n",
       "  <matplotlib.axis.XTick at 0x1b38b301610>,\n",
       "  <matplotlib.axis.XTick at 0x1b38b2ebb80>,\n",
       "  <matplotlib.axis.XTick at 0x1b38ba9c370>],\n",
       " [Text(0, 0, ''),\n",
       "  Text(0, 0, ''),\n",
       "  Text(0, 0, ''),\n",
       "  Text(0, 0, ''),\n",
       "  Text(0, 0, ''),\n",
       "  Text(0, 0, ''),\n",
       "  Text(0, 0, ''),\n",
       "  Text(0, 0, ''),\n",
       "  Text(0, 0, ''),\n",
       "  Text(0, 0, ''),\n",
       "  Text(0, 0, ''),\n",
       "  Text(0, 0, ''),\n",
       "  Text(0, 0, ''),\n",
       "  Text(0, 0, ''),\n",
       "  Text(0, 0, ''),\n",
       "  Text(0, 0, '')])"
      ]
     },
     "execution_count": 52,
     "metadata": {},
     "output_type": "execute_result"
    },
    {
     "data": {
      "image/png": "[encoded data removed]",
      "text/plain": [
       "<Figure size 640x480 with 1 Axes>"
      ]
     },
     "metadata": {},
     "output_type": "display_data"
    }
   ],
   "source": [
    "start = time()\n",
    "dyct = {'[1, 1, 1, 1]':0, '[1, 1, 1, -1]':0, '[1, 1, -1, 1]':0, '[1, 1, -1, -1]':0,\n",
    "       '[1, -1, 1, 1]':0, '[1, -1, 1, -1]':0, '[1, -1, -1, 1]':0, '[1, -1, -1, -1]':0,\n",
    "       '[-1, 1, 1, 1]':0, '[-1, 1, 1, -1]':0, '[-1, 1, -1, 1]':0, '[-1, 1, -1, -1]':0,\n",
    "       '[-1, -1, 1, 1]':0, '[-1, -1, 1, -1]':0, '[-1, -1, -1, 1]':0, '[-1, -1, -1, -1]':0,}\n",
    "\n",
    "# Set Parameters\n",
    "J = -0.25*np.log(0.5) # Coupling Strength\n",
    "T = 1 # Temperature\n",
    "\n",
    "# Calculate the Possibility\n",
    "P = np.exp(-4 * J / T)\n",
    "\n",
    "\n",
    "# Initialize the circuit\n",
    "q = QuantumRegister(5)\n",
    "c = ClassicalRegister(1)\n",
    "qc = QuantumCircuit(q, c)\n",
    "\n",
    "\"\"\"\n",
    "For every loop, the program takes 3 spins from position i-1, i, and i+1 of the spins list. The program will then apply the Ising \n",
    "interaction on the spin at position i. After the ising interaction, the update spins is stored back to the spins list. The same \n",
    "process then repeated. If we don't consider the 1-dimensional ising model to be arranged in a circular shape (that is, the head spin\n",
    "is not in neighbour with the tail spin), the program will apply ising interaction on all the spins except the first one and the last one.\n",
    "\"\"\"\n",
    "\n",
    "\n",
    "\"\"\"\n",
    "In the following code, q[0] represents the spin i, q[1] represents the spins i-1, q[2] represents the spins i+1,\n",
    "q[3] stands for the scratch qubit which will always be |0>, and q[4] represents the possibility to flip if change in energy is positive.\n",
    "\"\"\"\n",
    "\n",
    "n = 4\n",
    "\n",
    "for t in range(1000):\n",
    "    \n",
    "    spins = [1, 1, 1, 1]\n",
    "    \n",
    "    for i in range (0, len(spins)):\n",
    "        \n",
    "        qc = QuantumCircuit(q, c)\n",
    "        \n",
    "        qc.u(2 * np.arccos(np.sqrt(1 - P)), 0, 0, q[4])\n",
    "\n",
    "        if spins[i] == 1:\n",
    "            qc.x(q[0])\n",
    "            \n",
    "        if spins[i - 1] == 1:\n",
    "            qc.x(q[1])\n",
    "\n",
    "        if spins[(i + 1) % len(spins)] == 1:\n",
    "            qc.x(q[2])\n",
    "\n",
    "        # Operation 1\n",
    "        qc.mcx([q[0], q[1], q[2]], q[3]) \n",
    "\n",
    "        for j in range(3):\n",
    "            qc.x(q[j])\n",
    "        qc.mcx([q[0], q[1], q[2]], q[3])\n",
    "        for j in range(3):\n",
    "            qc.x(q[j])\n",
    "\n",
    "        qc.x(q[3])\n",
    "        qc.cx(q[3], q[0])\n",
    "        qc.x(q[3])\n",
    "\n",
    "        qc.ccx(q[4], q[3], q[0])\n",
    "\n",
    "        qc.measure(q[0], c)\n",
    "        backend = Aer.get_backend('qasm_simulator')\n",
    "        shots = 1024\n",
    "        results = execute(qc, backend, shots=shots).result()\n",
    "        counts = results.get_counts()\n",
    "\n",
    "        if len(counts.keys()) == 1:\n",
    "            newstat = int(list(counts.keys())[0])\n",
    "        else:\n",
    "            if list(counts.values())[0] > list(counts.values())[1]:\n",
    "                newstat = int(list(counts.keys())[0])\n",
    "            else:\n",
    "                newstat = int(list(counts.keys())[1])\n",
    "        if newstat == 1:\n",
    "            spins[i] = 1\n",
    "        elif newstat == 0:\n",
    "            spins[i] = -1\n",
    "\n",
    "    dyct[str(spins)] = dyct[str(spins)] + 1\n",
    "\n",
    "print(float(time() - start), 'seconds')\n",
    "print(dyct)\n",
    "plt.xticks(ticks = list(dyct.keys()), rotation = 315)\n",
    "plt.bar(dyct.keys(), dyct.values())"
   ]
  },
  {
   "cell_type": "markdown",
   "id": "c805fce6",
   "metadata": {},
   "source": [
    "#### Streaming"
   ]
  },
  {
   "cell_type": "code",
   "execution_count": 23,
   "id": "e1838f35",
   "metadata": {},
   "outputs": [],
   "source": [
    "def randomindex(N):\n",
    "    n = np.ceil(np.log2(N))\n",
    "    tempq = QuantumRegister(n)\n",
    "    tempc = ClassicalRegister(n)\n",
    "    circ = QuantumCircuit(tempq, tempc)\n",
    "    for numq in range(n):\n",
    "        circ.h(tempq[numq])\n",
    "    circ.measure(tempq, tempc)\n",
    "    backend = Aer.get_backend('qasm_simulator')\n",
    "    shots = 1024\n",
    "    results = execute(circ, backend, shots=shots).result()\n",
    "    counts = results.get_counts()\n",
    "    \n",
    "    \n",
    "    "
   ]
  },
  {
   "cell_type": "code",
   "execution_count": 27,
   "id": "cb4c8e28",
   "metadata": {},
   "outputs": [
    {
     "name": "stdout",
     "output_type": "stream",
     "text": [
      "2.0\n"
     ]
    }
   ],
   "source": [
    "print(np.ceil(np.log2(4)))"
   ]
  },
  {
   "cell_type": "code",
   "execution_count": 28,
   "id": "ba1e06ca",
   "metadata": {},
   "outputs": [],
   "source": [
    "def dec2bin(num):\n",
    "    l = []\n",
    "    if num < 0:\n",
    "        return '-' + dec2bin(abs(num))\n",
    "    while True:\n",
    "        num, remainder = divmod(num, 2)\n",
    "        l.append(str(remainder))\n",
    "        if num == 0:\n",
    "            return ''.join(l[::-1])"
   ]
  },
  {
   "cell_type": "code",
   "execution_count": 29,
   "id": "bfa11abe",
   "metadata": {},
   "outputs": [
    {
     "name": "stdout",
     "output_type": "stream",
     "text": [
      "0\n",
      "1\n",
      "10\n",
      "11\n",
      "100\n",
      "101\n",
      "110\n",
      "111\n"
     ]
    }
   ],
   "source": [
    "for i in range(8):\n",
    "    print(dec2bin(i))"
   ]
  },
  {
   "cell_type": "code",
   "execution_count": null,
   "id": "1c20413f",
   "metadata": {},
   "outputs": [],
   "source": []
  }
 ],
 "metadata": {
  "kernelspec": {
   "display_name": "Python 3 (ipykernel)",
   "language": "python",
   "name": "python3"
  },
  "language_info": {
   "codemirror_mode": {
    "name": "ipython",
    "version": 3
   },
   "file_extension": ".py",
   "mimetype": "text/x-python",
   "name": "python",
   "nbconvert_exporter": "python",
   "pygments_lexer": "ipython3",
   "version": "3.9.13"
  }
 },
 "nbformat": 4,
 "nbformat_minor": 5
}
