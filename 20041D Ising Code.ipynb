{
 "cells": [
  {
   "cell_type": "markdown",
   "id": "872dced8",
   "metadata": {},
   "source": [
    "# Simulation of 1D Ising Model"
   ]
  },
  {
   "cell_type": "markdown",
   "id": "3837c707",
   "metadata": {},
   "source": [
    "## The method is from paper 2004 1D Ising Model"
   ]
  },
  {
   "cell_type": "markdown",
   "id": "ecef9399",
   "metadata": {},
   "source": [
    "### Method 1: Combination of Classical and Quantum Algorithm"
   ]
  },
  {
   "cell_type": "code",
   "execution_count": 3,
   "id": "f643d18b",
   "metadata": {},
   "outputs": [],
   "source": [
    "import numpy as np\n",
    "import random\n",
    "from qiskit import QuantumCircuit, QuantumRegister, ClassicalRegister, execute, Aer"
   ]
  },
  {
   "cell_type": "code",
   "execution_count": 9,
   "id": "00dcc411",
   "metadata": {},
   "outputs": [
    {
     "name": "stdout",
     "output_type": "stream",
     "text": [
      "[1, 1, -1, 1, 1]\n"
     ]
    }
   ],
   "source": [
    "# Set Parameters\n",
    "J = 1 # Coupling Strength\n",
    "T = 1 # Temperature\n",
    "\n",
    "# Calculate the Possibility\n",
    "P = np.exp(-4 * J / T)\n",
    "\n",
    "# Initialize the spins. This might be able to performed through quantum algorithms.\n",
    "n = 5\n",
    "spins = [1, 1, -1, 1, 1]\n",
    "\n",
    "# Initialize the circuit\n",
    "q = QuantumRegister(5)\n",
    "c = ClassicalRegister(1)\n",
    "qc = QuantumCircuit(q, c)\n",
    "\n",
    "\"\"\"\n",
    "For every loop, the program takes 3 spins from position i-1, i, and i+1 of the spins list. The program will then apply the Ising \n",
    "interaction on the spin at position i. After the ising interaction, the update spins is stored back to the spins list. The same \n",
    "process then repeated. If we don't consider the 1-dimensional ising model to be arranged in a circular shape (that is, the head spin\n",
    "is not in neighbour with the tail spin), the program will apply ising interaction on all the spins except the first one and the last one.\n",
    "\"\"\"\n",
    "\n",
    "\n",
    "\"\"\"\n",
    "In the following code, q[0] represents the spin i, q[1] represents the spins i-1, q[2] represents the spins i+1,\n",
    "q[3] stands for the scratch qubit which will always be |0>, and q[4] represents the possibility to flip if change in energy is positive.\n",
    "\"\"\"\n",
    "for i in range (1, len(spins) - 1):\n",
    "    # Set the scratch and possibility qubits\n",
    "    qc.reset(q[3])\n",
    "    qc.reset(q[4])\n",
    "    qc.u(2 * np.arccos(np.sqrt(1 - P)), 0, 0, q[4])\n",
    "    \n",
    "    #Set up the qubits\n",
    "    if spins[i] == 1:\n",
    "        qc.x(q[0])\n",
    "    else:\n",
    "        qc.reset(q[0])\n",
    "    \n",
    "    if spins[i - 1] == 1:\n",
    "        qc.x(q[1])\n",
    "    else:\n",
    "        qc.reset(q[1])\n",
    "    \n",
    "    if spins[i + 1] == 1:\n",
    "        qc.x(q[2])\n",
    "    else:\n",
    "        qc.reset(q[2])\n",
    "    \n",
    "    # Apply Ising Interaction (In a 'conservative' way, the code can be modified to be more efficient)\n",
    "    # Operation 1\n",
    "    qc.mcx([q[0], q[1], q[2]], q[3]) \n",
    "    \n",
    "    #Operation 2\n",
    "    for j in range(3):\n",
    "        qc.x(q[j])\n",
    "    qc.mcx([q[0], q[1], q[2]], q[3])\n",
    "    for j in range(3):\n",
    "        qc.x(q[j])\n",
    "    \n",
    "    # Operation 3\n",
    "    qc.cx(q[3], q[0])\n",
    "    \n",
    "    # Operation 4\n",
    "    qc.ccx(q[4], q[3], q[0])\n",
    "    \n",
    "    # Measurement\n",
    "    qc.measure(q[0], c)\n",
    "    backend = Aer.get_backend('qasm_simulator')\n",
    "    shots = 1024\n",
    "    results = execute(qc, backend, shots=shots).result()\n",
    "    counts = results.get_counts()\n",
    "    \n",
    "    # Update spin i\n",
    "    if len(counts.keys()) == 1:\n",
    "        newstat = int(list(counts.keys())[0])\n",
    "    else:\n",
    "        if list(counts.values())[0] > list(counts.values())[1]:\n",
    "            newstat = int(list(counts.keys())[0])\n",
    "        else:\n",
    "            newstat = int(list(counts.keys())[1])\n",
    "    if newstat == 1:\n",
    "        spins[i] = 1\n",
    "    elif newstat == 0:\n",
    "        spins[i] = -1\n",
    "\n",
    "print(spins)"
   ]
  },
  {
   "cell_type": "code",
   "execution_count": null,
   "id": "1968fa73",
   "metadata": {},
   "outputs": [],
   "source": []
  }
 ],
 "metadata": {
  "kernelspec": {
   "display_name": "Python 3 (ipykernel)",
   "language": "python",
   "name": "python3"
  },
  "language_info": {
   "codemirror_mode": {
    "name": "ipython",
    "version": 3
   },
   "file_extension": ".py",
   "mimetype": "text/x-python",
   "name": "python",
   "nbconvert_exporter": "python",
   "pygments_lexer": "ipython3",
   "version": "3.9.13"
  }
 },
 "nbformat": 4,
 "nbformat_minor": 5
}
