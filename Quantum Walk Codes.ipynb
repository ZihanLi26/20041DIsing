{
 "cells": [
  {
   "cell_type": "markdown",
   "id": "03ee51c5",
   "metadata": {},
   "source": [
    "# A Comparison between Classic and Quantum Random Walk"
   ]
  },
  {
   "cell_type": "markdown",
   "id": "188dfafb",
   "metadata": {},
   "source": [
    "Codes for classic random walk is designed with Python and codes for quantum random walk is based on Qiskit."
   ]
  },
  {
   "cell_type": "code",
   "execution_count": 1,
   "id": "9b8cc472",
   "metadata": {},
   "outputs": [],
   "source": [
    "# Import necessary libraries\n",
    "from qiskit import *\n",
    "import numpy as np\n",
    "import matplotlib.pyplot as plt\n",
    "import random"
   ]
  },
  {
   "cell_type": "markdown",
   "id": "1ad1b40f",
   "metadata": {},
   "source": [
    "Below four pieces of codes are built for the concise of later major codes (Mainly qauntum codes)."
   ]
  },
  {
   "cell_type": "code",
   "execution_count": 2,
   "id": "fd70ed3a",
   "metadata": {},
   "outputs": [],
   "source": [
    "# Make all the keys in a dictionary to have the same length by adding zeros in the front\n",
    "# Example: if the longest keys has a length of 5, '0' will be implemented as '00000', '101' will become '00101'\n",
    "def tidy(n, untidy):\n",
    "    if len(untidy) != n:\n",
    "        makeup = n - len(untidy)\n",
    "        for temp in range(makeup):\n",
    "            untidy = '0' + untidy\n",
    "    return untidy"
   ]
  },
  {
   "cell_type": "code",
   "execution_count": 3,
   "id": "a5b4a52d",
   "metadata": {},
   "outputs": [],
   "source": [
    "# Since the overall range of the distance one can be from the origin with n steps is [0, 2^n]\n",
    "# this piece of code creates a dictionary from 0  to (2^n) - 1 to record data.\n",
    "def creatDic(n):\n",
    "    dec = np.linspace(0, (2 ** n) - 1, 2 ** n)\n",
    "    binary = []\n",
    "    for value in dec:\n",
    "        binary.append(bin(int(value))[2:])\n",
    "    for temp2 in range(len(binary)):\n",
    "        binary[temp2] = tidy(n, binary[temp2])\n",
    "    newdict = {key: 0 for key in binary}\n",
    "    return newdict"
   ]
  },
  {
   "cell_type": "code",
   "execution_count": 4,
   "id": "88c8fc49",
   "metadata": {},
   "outputs": [],
   "source": [
    "# Record the result after running the simulation\n",
    "def autoRenew(n, newresult):\n",
    "    blankdict = creatDic(n)\n",
    "    totalnumber = len(list(newresult.keys()))\n",
    "    for temp2 in range(totalnumber):\n",
    "        blankdict[list(newresult.keys())[temp2]] = newresult[list(newresult.keys())[temp2]]\n",
    "    \n",
    "    return blankdict"
   ]
  },
  {
   "cell_type": "code",
   "execution_count": 5,
   "id": "243a30c4",
   "metadata": {},
   "outputs": [],
   "source": [
    "# Draw the updated results.\n",
    "def draw(n, newresult):\n",
    "    updatedict = autoRenew(n, newresult)\n",
    "    plt.bar(np.linspace(0, (2 ** n) - 1, 2 ** n), updatedict.values())"
   ]
  },
  {
   "cell_type": "markdown",
   "id": "7b5fd326",
   "metadata": {},
   "source": [
    "## Classic Random Walk"
   ]
  },
  {
   "cell_type": "markdown",
   "id": "cb737d4f",
   "metadata": {},
   "source": [
    "Random Walk refers to the question: A man will either go right with probability p, or left with probability 1-p,\n",
    "how many steps away from the origin will this man be after n steps?"
   ]
  },
  {
   "cell_type": "markdown",
   "id": "b74ccdf9",
   "metadata": {},
   "source": [
    "Mathematically speaking, this question can be interpretated as the following statement. For every step, we take the value to be either $1$ or $-1$. Each step is independent from the previous steps. For every step x, the value and probability is:\n",
    "\n",
    "|x value |Probability|\n",
    "|:-----:|:-----:|\n",
    "|1 |p|\n",
    "|-1|1-p|\n",
    "\n",
    "The expectation value for one step is:\n",
    "$$\n",
    "<x> = 1p + (-1)(1-p)\n",
    "$$\n",
    "\n",
    "In a non-baised situation, $p = 1-p = 0.5$, so the expectation value is supposed to be $0$ for one step, and thus $0$ for all the n steps. Below is a numerical simulation."
   ]
  },
  {
   "cell_type": "markdown",
   "id": "5e827644",
   "metadata": {},
   "source": [
    "The classic algorithm is designed with two parameter: groupnumber and trialnumber. Trial number refers to how many steps the man take within one experiment (n in the above description). Group number refers to how many times we repeat the n-step experiment (that is, how many groups of data we collect)."
   ]
  },
  {
   "cell_type": "code",
   "execution_count": 44,
   "id": "ad26a879",
   "metadata": {
    "scrolled": false
   },
   "outputs": [
    {
     "data": {
      "text/plain": [
       "<BarContainer object of 101 artists>"
      ]
     },
     "execution_count": 44,
     "metadata": {},
     "output_type": "execute_result"
    },
    {
     "data": {
      "image/png": "[encoded data removed]",
      "text/plain": [
       "<Figure size 640x480 with 1 Axes>"
      ]
     },
     "metadata": {},
     "output_type": "display_data"
    }
   ],
   "source": [
    "# Classic Random Walk\n",
    "# The scales of the experiment can be varied by changing the trialnumber, the disrange should also be changed to\n",
    "# np.linspace(-trialnumber, trialnumber, 2*trialnumber+1) for data recording. \n",
    "disrange = np.linspace(-50, 50, 101)\n",
    "findistance = {key: 0 for key in disrange}\n",
    "groupnumber = 1000\n",
    "trialnumber = 50\n",
    "for temp1 in range(groupnumber):\n",
    "    distance = 0\n",
    "    for temp2 in range(trialnumber):\n",
    "        coin = random.randint(0, 1)\n",
    "        if coin == 0:\n",
    "            distance -= 1 \n",
    "        elif coin == 1:\n",
    "            distance += 1\n",
    "    findistance[distance] += 1\n",
    "\n",
    "plt.bar(findistance.keys(), findistance.values())"
   ]
  },
  {
   "cell_type": "code",
   "execution_count": 45,
   "id": "170dd336",
   "metadata": {},
   "outputs": [
    {
     "name": "stdout",
     "output_type": "stream",
     "text": [
      "{-50.0: 0, -49.0: 0, -48.0: 0, -47.0: 0, -46.0: 0, -45.0: 0, -44.0: 0, -43.0: 0, -42.0: 0, -41.0: 0, -40.0: 0, -39.0: 0, -38.0: 0, -37.0: 0, -36.0: 0, -35.0: 0, -34.0: 0, -33.0: 0, -32.0: 0, -31.0: 0, -30.0: 0, -29.0: 0, -28.0: 0, -27.0: 0, -26.0: 0, -25.0: 0, -24.0: 0, -23.0: 0, -22.0: 1, -21.0: 0, -20.0: 3, -19.0: 0, -18.0: 6, -17.0: 0, -16.0: 12, -15.0: 0, -14.0: 17, -13.0: 0, -12.0: 35, -11.0: 0, -10.0: 30, -9.0: 0, -8.0: 62, -7.0: 0, -6.0: 63, -5.0: 0, -4.0: 113, -3.0: 0, -2.0: 109, -1.0: 0, 0.0: 114, 1.0: 0, 2.0: 101, 3.0: 0, 4.0: 95, 5.0: 0, 6.0: 85, 7.0: 0, 8.0: 60, 9.0: 0, 10.0: 32, 11.0: 0, 12.0: 37, 13.0: 0, 14.0: 13, 15.0: 0, 16.0: 6, 17.0: 0, 18.0: 5, 19.0: 0, 20.0: 0, 21.0: 0, 22.0: 1, 23.0: 0, 24.0: 0, 25.0: 0, 26.0: 0, 27.0: 0, 28.0: 0, 29.0: 0, 30.0: 0, 31.0: 0, 32.0: 0, 33.0: 0, 34.0: 0, 35.0: 0, 36.0: 0, 37.0: 0, 38.0: 0, 39.0: 0, 40.0: 0, 41.0: 0, 42.0: 0, 43.0: 0, 44.0: 0, 45.0: 0, 46.0: 0, 47.0: 0, 48.0: 0, 49.0: 0, 50.0: 0}\n"
     ]
    }
   ],
   "source": [
    "print(findistance)"
   ]
  },
  {
   "cell_type": "markdown",
   "id": "e5bc5e0f",
   "metadata": {},
   "source": [
    "As the number of trials increases, the distribution still looks like a bell shape, but the distribution will become more spread with a lower and lower frequency at center. The below graph is a comparison between trial number 50, 100, 200, 500, and 1000."
   ]
  },
  {
   "cell_type": "markdown",
   "id": "a6c9c108",
   "metadata": {},
   "source": [
    "For save of memory and efficiency, the data is collected in the following way (not shown in codes):\n",
    "1. Find the minimum number (usually negative) and maximum number (usually positive) that has a non-zero frequency. Denote them as $R_{min}$ and $R_{max}$.\n",
    "2. Compare the absolute value of $R_{min}$ and $R_{max}$, denote $l = max\\{|R_{min}|, |R_{min}|\\}$\n",
    "3. Collect the data in the dictionary whose key is within the value of $[-l, l]$"
   ]
  },
  {
   "cell_type": "code",
   "execution_count": 46,
   "id": "98275ddc",
   "metadata": {},
   "outputs": [
    {
     "data": {
      "text/plain": [
       "<matplotlib.legend.Legend at 0x1fd70716e50>"
      ]
     },
     "execution_count": 46,
     "metadata": {},
     "output_type": "execute_result"
    },
    {
     "data": {
      "image/png": "[encoded data removed]",
      "text/plain": [
       "<Figure size 640x480 with 1 Axes>"
      ]
     },
     "metadata": {},
     "output_type": "display_data"
    }
   ],
   "source": [
    "# This is a comparion between the distributino of different trial numbers (50, 100, 200, 500, 1000)\n",
    "trial50 = {-22.0: 1, -21.0: 0, -20.0: 3, -19.0: 0, -18.0: 6, -17.0: 0, -16.0: 12, -15.0: 0, -14.0: 17, -13.0: 0, -12.0: 35, -11.0: 0, -10.0: 30, -9.0: 0, -8.0: 62, -7.0: 0, -6.0: 63, -5.0: 0, -4.0: 113, -3.0: 0, -2.0: 109, -1.0: 0, 0.0: 114, 1.0: 0, 2.0: 101, 3.0: 0, 4.0: 95, 5.0: 0, 6.0: 85, 7.0: 0, 8.0: 60, 9.0: 0, 10.0: 32, 11.0: 0, 12.0: 37, 13.0: 0, 14.0: 13, 15.0: 0, 16.0: 6, 17.0: 0, 18.0: 5, 19.0: 0, 20.0: 0, 21.0: 0, 22.0: 1}\n",
    "trial100 = {-32.0: 1, -31.0: 0, -30.0: 0, -29.0: 0, -28.0: 0, -27.0: 0, -26.0: 4, -25.0: 0, -24.0: 1, -23.0: 0, -22.0: 6, -21.0: 0, -20.0: 13, -19.0: 0, -18.0: 17, -17.0: 0, -16.0: 29, -15.0: 0, -14.0: 32, -13.0: 0, -12.0: 35, -11.0: 0, -10.0: 40, -9.0: 0, -8.0: 40, -7.0: 0, -6.0: 88, -5.0: 0, -4.0: 85, -3.0: 0, -2.0: 68, -1.0: 0, 0.0: 61, 1.0: 0, 2.0: 79, 3.0: 0, 4.0: 68, 5.0: 0, 6.0: 69, 7.0: 0, 8.0: 65, 9.0: 0, 10.0: 50, 11.0: 0, 12.0: 39, 13.0: 0, 14.0: 41, 15.0: 0, 16.0: 19, 17.0: 0, 18.0: 16, 19.0: 0, 20.0: 11, 21.0: 0, 22.0: 7, 23.0: 0, 24.0: 6, 25.0: 0, 26.0: 3, 27.0: 0, 28.0: 4, 29.0: 0, 30.0: 3, 31.0: 0, 32.0: 0}\n",
    "trial200 = {-40.0: 0, -39.0: 0, -38.0: 2, -37.0: 0, -36.0: 2, -35.0: 0, -34.0: 3, -33.0: 0, -32.0: 3, -31.0: 0, -30.0: 6, -29.0: 0, -28.0: 12, -27.0: 0, -26.0: 12, -25.0: 0, -24.0: 10, -23.0: 0, -22.0: 11, -21.0: 0, -20.0: 21, -19.0: 0, -18.0: 28, -17.0: 0, -16.0: 24, -15.0: 0, -14.0: 34, -13.0: 0, -12.0: 51, -11.0: 0, -10.0: 47, -9.0: 0, -8.0: 47, -7.0: 0, -6.0: 55, -5.0: 0, -4.0: 65, -3.0: 0, -2.0: 51, -1.0: 0, 0.0: 46, 1.0: 0, 2.0: 50, 3.0: 0, 4.0: 60, 5.0: 0, 6.0: 53, 7.0: 0, 8.0: 40, 9.0: 0, 10.0: 37, 11.0: 0, 12.0: 36, 13.0: 0, 14.0: 31, 15.0: 0, 16.0: 28, 17.0: 0, 18.0: 43, 19.0: 0, 20.0: 21, 21.0: 0, 22.0: 19, 23.0: 0, 24.0: 13, 25.0: 0, 26.0: 9, 27.0: 0, 28.0: 7, 29.0: 0, 30.0: 6, 31.0: 0, 32.0: 3, 33.0: 0, 34.0: 4, 35.0: 0, 36.0: 4, 37.0: 0, 38.0: 3, 39.0: 0, 40.0: 1}\n",
    "trial500 = {-52.0: 2, -51.0: 0, -50.0: 3, -49.0: 0, -48.0: 5, -47.0: 0, -46.0: 6, -45.0: 0, -44.0: 2, -43.0: 0, -42.0: 4, -41.0: 0, -40.0: 14, -39.0: 0, -38.0: 6, -37.0: 0, -36.0: 8, -35.0: 0, -34.0: 8, -33.0: 0, -32.0: 10, -31.0: 0, -30.0: 9, -29.0: 0, -28.0: 20, -27.0: 0, -26.0: 14, -25.0: 0, -24.0: 25, -23.0: 0, -22.0: 28, -21.0: 0, -20.0: 31, -19.0: 0, -18.0: 19, -17.0: 0, -16.0: 26, -15.0: 0, -14.0: 32, -13.0: 0, -12.0: 32, -11.0: 0, -10.0: 36, -9.0: 0, -8.0: 29, -7.0: 0, -6.0: 39, -5.0: 0, -4.0: 38, -3.0: 0, -2.0: 43, -1.0: 0, 0.0: 33, 1.0: 0, 2.0: 36, 3.0: 0, 4.0: 38, 5.0: 0, 6.0: 37, 7.0: 0, 8.0: 31, 9.0: 0, 10.0: 34, 11.0: 0, 12.0: 22, 13.0: 0, 14.0: 29, 15.0: 0, 16.0: 19, 17.0: 0, 18.0: 32, 19.0: 0, 20.0: 19, 21.0: 0, 22.0: 17, 23.0: 0, 24.0: 18, 25.0: 0, 26.0: 31, 27.0: 0, 28.0: 17, 29.0: 0, 30.0: 10, 31.0: 0, 32.0: 17, 33.0: 0, 34.0: 15, 35.0: 0, 36.0: 5, 37.0: 0, 38.0: 6, 39.0: 0, 40.0: 8, 41.0: 0, 42.0: 6, 43.0: 0, 44.0: 6, 45.0: 0, 46.0: 3, 47.0: 0, 48.0: 7, 49.0: 0, 50.0: 7, 51.0: 0, 52.0: 2}\n",
    "trial1000 = {-98.0: 1, -97.0: 0, -96.0: 0, -95.0: 0, -94.0: 1, -93.0: 0, -92.0: 1, -91.0: 0, -90.0: 3, -89.0: 0, -88.0: 0, -87.0: 0, -86.0: 1, -85.0: 0, -84.0: 3, -83.0: 0, -82.0: 0, -81.0: 0, -80.0: 0, -79.0: 0, -78.0: 1, -77.0: 0, -76.0: 2, -75.0: 0, -74.0: 3, -73.0: 0, -72.0: 2, -71.0: 0, -70.0: 1, -69.0: 0, -68.0: 4, -67.0: 0, -66.0: 2, -65.0: 0, -64.0: 3, -63.0: 0, -62.0: 2, -61.0: 0, -60.0: 4, -59.0: 0, -58.0: 6, -57.0: 0, -56.0: 4, -55.0: 0, -54.0: 6, -53.0: 0, -52.0: 10, -51.0: 0, -50.0: 5, -49.0: 0, -48.0: 11, -47.0: 0, -46.0: 7, -45.0: 0, -44.0: 7, -43.0: 0, -42.0: 10, -41.0: 0, -40.0: 13, -39.0: 0, -38.0: 10, -37.0: 0, -36.0: 15, -35.0: 0, -34.0: 19, -33.0: 0, -32.0: 27, -31.0: 0, -30.0: 13, -29.0: 0, -28.0: 11, -27.0: 0, -26.0: 26, -25.0: 0, -24.0: 21, -23.0: 0, -22.0: 20, -21.0: 0, -20.0: 23, -19.0: 0, -18.0: 21, -17.0: 0, -16.0: 20, -15.0: 0, -14.0: 32, -13.0: 0, -12.0: 23, -11.0: 0, -10.0: 22, -9.0: 0, -8.0: 24, -7.0: 0, -6.0: 31, -5.0: 0, -4.0: 19, -3.0: 0, -2.0: 22, -1.0: 0, 0.0: 21, 1.0: 0, 2.0: 27, 3.0: 0, 4.0: 25, 5.0: 0, 6.0: 29, 7.0: 0, 8.0: 25, 9.0: 0, 10.0: 15, 11.0: 0, 12.0: 16, 13.0: 0, 14.0: 27, 15.0: 0, 16.0: 21, 17.0: 0, 18.0: 15, 19.0: 0, 20.0: 24, 21.0: 0, 22.0: 24, 23.0: 0, 24.0: 18, 25.0: 0, 26.0: 17, 27.0: 0, 28.0: 16, 29.0: 0, 30.0: 7, 31.0: 0, 32.0: 25, 33.0: 0, 34.0: 18, 35.0: 0, 36.0: 15, 37.0: 0, 38.0: 5, 39.0: 0, 40.0: 6, 41.0: 0, 42.0: 10, 43.0: 0, 44.0: 11, 45.0: 0, 46.0: 7, 47.0: 0, 48.0: 8, 49.0: 0, 50.0: 7, 51.0: 0, 52.0: 4, 53.0: 0, 54.0: 3, 55.0: 0, 56.0: 5, 57.0: 0, 58.0: 1, 59.0: 0, 60.0: 4, 61.0: 0, 62.0: 4, 63.0: 0, 64.0: 1, 65.0: 0, 66.0: 5, 67.0: 0, 68.0: 3, 69.0: 0, 70.0: 5, 71.0: 0, 72.0: 1, 73.0: 0, 74.0: 2, 75.0: 0, 76.0: 1, 77.0: 0, 78.0: 3, 79.0: 0, 80.0: 4, 81.0: 0, 82.0: 2, 83.0: 0, 84.0: 0, 85.0: 0, 86.0: 0, 87.0: 0, 88.0: 1, 89.0: 0, 90.0: 0, 91.0: 0, 92.0: 0, 93.0: 0, 94.0: 0, 95.0: 0, 96.0: 0, 97.0: 0, 98.0: 0}\n",
    "\n",
    "plt.bar(trial50.keys(), trial50.values())\n",
    "plt.bar(trial100.keys(), trial100.values())\n",
    "plt.bar(trial200.keys(), trial200.values())\n",
    "plt.bar(trial500.keys(), trial500.values())\n",
    "plt.bar(trial1000.keys(), trial1000.values())\n",
    "plt.legend(['trial50', 'trial100', 'trial200', 'trial500', 'trial1000'])"
   ]
  },
  {
   "cell_type": "markdown",
   "id": "80e5de1b",
   "metadata": {},
   "source": [
    "## Quantum Random Walk"
   ]
  },
  {
   "cell_type": "markdown",
   "id": "aa408376",
   "metadata": {},
   "source": [
    "### Generalized Description"
   ]
  },
  {
   "cell_type": "markdown",
   "id": "81ddf4f7",
   "metadata": {},
   "source": [
    "The only difference between the quantum random walk and the classic random walk, when generating, is supposed to be that the random number is generated through H gate, a real random number, instead of the psuedo-random number in python. However, the result is surprisingly different from expected. I haven't had a mathematical expression to explain the result analytically, but I do have the codes to numerically give us a peak at the 'strange' property of quantum random walk."
   ]
  },
  {
   "cell_type": "markdown",
   "id": "5c63e263",
   "metadata": {},
   "source": [
    "For quantum codes, we need a different way to count the distance from the origin. We need $n$ qubits to represent distance within the range $[0, 2^n - 1]$. We also need an increament gate and a decrement gate separately. Decrement gate is different from increment gate only in that the decrement gate detect 0s while the increment gate detects 1s. Below is an example of 3-qubit increment gate. This gate can record the distance ranging $[0, 7]$."
   ]
  },
  {
   "cell_type": "code",
   "execution_count": 47,
   "id": "ac410535",
   "metadata": {},
   "outputs": [
    {
     "data": {
      "image/png": "[encoded data removed]",
      "text/plain": [
       "<Figure size 389.136x284.278 with 1 Axes>"
      ]
     },
     "execution_count": 47,
     "metadata": {},
     "output_type": "execute_result"
    }
   ],
   "source": [
    "qt = QuantumRegister(3)\n",
    "qc = QuantumCircuit(qt)\n",
    "\n",
    "\n",
    "qc.ccx(qt[2], qt[1], qt[0])\n",
    "qc.cx(qt[2], qt[1])\n",
    "qc.x(qt[2])\n",
    "\n",
    "qc.draw('mpl')"
   ]
  },
  {
   "cell_type": "markdown",
   "id": "7b8208b7",
   "metadata": {},
   "source": [
    "This is an example of how this circuit works, suppose the circuit starts with $|011>$, after the circuit the result should be $|100>$\n",
    "1. After CCX Gate: $|111>$\n",
    "2. After CX Gate: $|101>$\n",
    "3. After X Gate: $|100>$\n",
    "\n",
    "With this circuit, if the counter reaches the maximum boundary, it will return to the lowest value, like the periodic boundary conditions. Below is an example of boundary condition $|111>$, after the circuit, it should become $|000>$.\n",
    "1. After CCX Gate: $|011>$\n",
    "2. After CX Gate: $|001>$\n",
    "3. After X Gate: $|000>$"
   ]
  },
  {
   "cell_type": "markdown",
   "id": "81fd1560",
   "metadata": {},
   "source": [
    "Simply by adding an X gate before and after every control qubit in the increment gate, we can get the decrement gate. The circuit is given as below."
   ]
  },
  {
   "cell_type": "code",
   "execution_count": 48,
   "id": "edfd4561",
   "metadata": {},
   "outputs": [
    {
     "data": {
      "image/png": "[encoded data removed]",
      "text/plain": [
       "<Figure size 723.783x284.278 with 1 Axes>"
      ]
     },
     "execution_count": 48,
     "metadata": {},
     "output_type": "execute_result"
    }
   ],
   "source": [
    "qt = QuantumRegister(3)\n",
    "qc = QuantumCircuit(qt)\n",
    "\n",
    "qc.x(qt[2])\n",
    "qc.x(qt[1])\n",
    "qc.ccx(qt[2], qt[1], qt[0])\n",
    "qc.x(qt[2])\n",
    "qc.x(qt[1])\n",
    "qc.x(qt[2])\n",
    "qc.cx(qt[2], qt[1])\n",
    "qc.x(qt[2])\n",
    "qc.x(qt[2])\n",
    "\n",
    "qc.draw('mpl')"
   ]
  },
  {
   "cell_type": "markdown",
   "id": "5ea3f9d9",
   "metadata": {},
   "source": [
    "This is an example of how this circuit works, suppose the circuit starts with $|010>$, after the circuit the result should be $|001>$\n",
    "1. After 0-detecting CCX Gate: $|010>$\n",
    "2. After 0-detecting CX Gate: $|000>$\n",
    "3. After X Gate: $|001>$\n",
    "\n",
    "With this circuit, if the counter reaches the minimum boundary, it will return to the highest value like the periodic boundary conditions. Below is an example of boundary condition $|000>$, after the circuit, it should become $|111>$.\n",
    "1. After 0-detecting CCX Gate: $|100>$\n",
    "2. After 0-detecting CX Gate: $|110>$\n",
    "3. After X Gate: $|111>$"
   ]
  },
  {
   "cell_type": "markdown",
   "id": "99039027",
   "metadata": {},
   "source": [
    "While implementing the code, the increasement gate and decreasement gates are to implemented with subcircuit so that it can added a control qubit and together added to the circuit. A generalized (psuedo-)code for increment and decreament gate is given with n qubits."
   ]
  },
  {
   "cell_type": "code",
   "execution_count": null,
   "id": "4f117a95",
   "metadata": {},
   "outputs": [],
   "source": [
    "sub_q1 = QuantumRegister(n)\n",
    "sub_circ1 = QuantumCircuit(sub_q1, name='increment')\n",
    "sub_cir1.mcx([sub_q1[n - 1], sub_q1[n - 2], ..., sub_q1[2], sub_q1[1]], sub_q1[0])\n",
    "sub_cir1.mcx([sub_q1[n - 1], sub_q1[n - 2], ..., sub_q1[3], sub_q1[2]], sub_q1[1])\n",
    "sub_cir1.mcx([sub_q1[n - 1], sub_q1[n - 2], ..., sub_q1[4], sub_q1[3]], sub_q1[2])\n",
    "...\n",
    "sub_circ1.ccx(sub_q1[n - 1], sub_q1[n - 2], sub_q1[n - 3])\n",
    "sub_circ1.cx(sub_q1[n - 1], sub_q1[n - 2])\n",
    "sub_circ1.x(sub_q1[n - 1])\n",
    "\n",
    "incr = sub_circ1.to_gate().control(1)\n",
    "\n",
    "\n",
    "sub_q2 = QuantumRegister(n)\n",
    "sub_circ2 = QuantumCircuit(sub_q2, name='decrement')\n",
    "\n",
    "\n",
    "\n",
    "for temp1 in range(0, n - 2)\n",
    "    sub_circ2.x(sub_q2[temp1])\n",
    "sub_circ2.mcx([sub_q1[n - 1], sub_q1[n - 2], ..., sub_q1[2], sub_q1[1]], sub_q1[0])\n",
    "for temp1 in range(0, n - 2)\n",
    "    sub_circ2.x(sub_q2[temp1])\n",
    "    \n",
    "for temp1 in range(1, n - 2)\n",
    "    sub_circ2.x(sub_q2[temp1])\n",
    "sub_circ2.mcx([sub_q1[n - 1], sub_q1[n - 2], ..., sub_q1[3], sub_q1[2]], sub_q1[1])\n",
    "for temp1 in range(1, n - 2)\n",
    "    sub_circ2.x(sub_q2[temp1])\n",
    "\n",
    "...\n",
    "\n",
    "sub_circ2.x(sub_q2[n - 1])\n",
    "sub_circ2.x(sub_q2[n - 2])\n",
    "sub_circ2.ccx(sub_q1[n - 1], sub_q1[n - 2], sub_q1[n - 3])\n",
    "sub_circ2.x(sub_q2[n - 1])\n",
    "sub_circ2.x(sub_q2[n - 2])\n",
    "\n",
    "sub_circ2.x(sub_q2[n - 1])\n",
    "sub_circ2.cx(sub_q2[n - 1], sub_q2[n - 2])\n",
    "sub_circ2.x(sub_q2[n - 1])\n",
    "\n",
    "sub_circ2.x(sub_q2[n - 1])\n",
    "\n",
    "decr = sub_circ2.to_gate().control(1)"
   ]
  },
  {
   "cell_type": "markdown",
   "id": "9b33d77d",
   "metadata": {},
   "source": [
    "Different from the classic case, we now use an H gate to generate real random numbers. The way we achieve that is by adding a new qubit, initialized with an H gate. The control gate mentiond above in increament and decreament gate will also be attached to this gate. A generalized (psuedo-) code looks like the following."
   ]
  },
  {
   "cell_type": "code",
   "execution_count": null,
   "id": "a42e1f21",
   "metadata": {},
   "outputs": [],
   "source": [
    "# Assume the increment gate and decrement gate is defined as above\n",
    "qr = QuantumRegister(n + 1) # Initialize the Qubits\n",
    "cr = ClassicalRegister(n)\n",
    "qc = QuantumCircuit(qr, cr)\n",
    "\n",
    "qc.x(0) # Move the origin to the center, will be explained later with example\n",
    "qc.h(n) # Set the 'coin'\n",
    "\n",
    "# Attach the increment and decrement gate\n",
    "qc.append(incr, [qr[n], qr[0], qr[1], qr[2], ..., qr[n -2], qr[n -1]])\n",
    "\n",
    "qc.x(n)\n",
    "qc.append(decr, [qr[n], qr[0], qr[1], qr[2], ..., qr[n -2], qr[n -1]])\n",
    "qc.x(n)\n",
    "\n",
    "# Measure the counter\n",
    "qc.measure([qr[n - 1], qr[n - 2], ..., qr[2], qr[1], qr[0]], cr) "
   ]
  },
  {
   "cell_type": "code",
   "execution_count": null,
   "id": "0bebfaa1",
   "metadata": {},
   "outputs": [],
   "source": [
    "# Get the results\n",
    "backend = BasicAer.get_backend('qasm_simulator')\n",
    "job = backend.run(transpile(qc, backend))\n",
    "results = job.result().get_counts(qc)\n",
    "draw(n, results)"
   ]
  },
  {
   "cell_type": "markdown",
   "id": "d3b62c23",
   "metadata": {},
   "source": [
    "The above codes are for one-step quantum random walk. The step is defined as how many times the increment and decrement gates are repeated. A multi-step codes can be implemented in the following way:"
   ]
  },
  {
   "cell_type": "code",
   "execution_count": null,
   "id": "6528d458",
   "metadata": {},
   "outputs": [],
   "source": [
    "# Assume the increment gate and decrement gate is defined as above\n",
    "qr = QuantumRegister(n + 1) # Initialize the Qubits\n",
    "cr = ClassicalRegister(n)\n",
    "qc = QuantumCircuit(qr, cr)\n",
    "\n",
    "qc.x(0) # Move the origin to the center, will be explained later with example\n",
    "qc.h(n) # Set the 'coin'\n",
    "\n",
    "# Attach the increment and decrement gate with more than one steps.\n",
    "for temp2 in range(stepnumber):\n",
    "    qc.append(incr, [qr[n], qr[0], qr[1], qr[2], ..., qr[n -2], qr[n -1]])\n",
    "\n",
    "    qc.x(n)\n",
    "    qc.append(decr, [qr[n], qr[0], qr[1], qr[2], ..., qr[n -2], qr[n -1]])\n",
    "    qc.x(n)\n",
    "\n",
    "# Measure the counter\n",
    "qc.measure([qr[n - 1], qr[n - 2], ..., qr[2], qr[1], qr[0]], cr) \n",
    "\n",
    "# Get the results\n",
    "backend = BasicAer.get_backend('qasm_simulator')\n",
    "job = backend.run(transpile(qc, backend))\n",
    "results = job.result().get_counts(qc)\n",
    "print(results)"
   ]
  },
  {
   "cell_type": "markdown",
   "id": "7eb84f36",
   "metadata": {},
   "source": [
    "### Example with maximum distance 32 and various step numbers"
   ]
  },
  {
   "cell_type": "markdown",
   "id": "524f870b",
   "metadata": {},
   "source": [
    "Let us start with an easy example of maximum distance 8"
   ]
  },
  {
   "cell_type": "code",
   "execution_count": 50,
   "id": "83de47e6",
   "metadata": {},
   "outputs": [
    {
     "name": "stdout",
     "output_type": "stream",
     "text": [
      "{'111': 522, '001': 502}\n"
     ]
    }
   ],
   "source": [
    "qr = QuantumRegister(4)\n",
    "cr = ClassicalRegister(3)\n",
    "qc = QuantumCircuit(qr, cr)\n",
    "\n",
    "sub_q1 = QuantumRegister(3)\n",
    "sub_circ1 = QuantumCircuit(sub_q1, name='increment')\n",
    "sub_circ1.ccx(sub_q1[2], sub_q1[1], sub_q1[0])\n",
    "sub_circ1.cx(sub_q1[2], sub_q1[1])\n",
    "sub_circ1.x(sub_q1[2])\n",
    "\n",
    "incr = sub_circ1.to_gate().control(1)\n",
    "\n",
    "\n",
    "sub_q2 = QuantumRegister(3)\n",
    "sub_circ2 = QuantumCircuit(sub_q2, name='decrement')\n",
    "sub_circ2.x(sub_q2[1])\n",
    "sub_circ2.x(sub_q2[2])\n",
    "sub_circ2.ccx(sub_q2[2], sub_q2[1], sub_q2[0])\n",
    "sub_circ2.x(sub_q2[1])\n",
    "sub_circ2.x(sub_q2[2])\n",
    "\n",
    "sub_circ2.x(sub_q2[2])\n",
    "sub_circ2.cx(sub_q2[2], sub_q2[1])\n",
    "sub_circ2.x(sub_q2[2])\n",
    "\n",
    "sub_circ2.x(sub_q2[2])\n",
    "\n",
    "decr = sub_circ2.to_gate().control(1)\n",
    "\n",
    "\n",
    "qc.h(3)\n",
    "qc.append(incr, [qr[3], qr[0], qr[1], qr[2]])\n",
    "qc.x(3)\n",
    "qc.append(decr, [qr[3], qr[0], qr[1], qr[2]])\n",
    "qc.x(3)\n",
    "qc.measure([qr[2], qr[1], qr[0]], cr)\n",
    "\n",
    "# Get the results\n",
    "backend = BasicAer.get_backend('qasm_simulator')\n",
    "job = backend.run(transpile(qc, backend))\n",
    "results = job.result().get_counts(qc)\n",
    "print(results)"
   ]
  },
  {
   "cell_type": "code",
   "execution_count": 57,
   "id": "4ddb0808",
   "metadata": {
    "scrolled": false
   },
   "outputs": [
    {
     "data": {
      "image/png": "[encoded data removed]",
      "text/plain": [
       "<Figure size 640x480 with 1 Axes>"
      ]
     },
     "metadata": {},
     "output_type": "display_data"
    }
   ],
   "source": [
    "# Get the results\n",
    "backend = BasicAer.get_backend('qasm_simulator')\n",
    "job = backend.run(transpile(qc, backend))\n",
    "results = job.result().get_counts(qc)\n",
    "draw(3, results)"
   ]
  },
  {
   "cell_type": "markdown",
   "id": "76eaf188",
   "metadata": {},
   "source": [
    "It seems that the quantum random walk will return us a paranormal distribution instead of a normal distribution. However, the step size seems puzzling. We start with 0. Due to the periodic boundary condition mentioned above, $0$ decreases by $1$ will return $7$. In order to make the graph clearer, we add a not gate at the first qubit, qr[0], which will move the center to the middle $2^{n-1}$, in this case 4. This is also why n qubits for counter will only allow a maximum distance of $2^{n-1}$. The modified result is shown as below:"
   ]
  },
  {
   "cell_type": "code",
   "execution_count": 58,
   "id": "a8e9a620",
   "metadata": {},
   "outputs": [
    {
     "data": {
      "image/png": "[encoded data removed]",
      "text/plain": [
       "<Figure size 640x480 with 1 Axes>"
      ]
     },
     "metadata": {},
     "output_type": "display_data"
    }
   ],
   "source": [
    "qr = QuantumRegister(4)\n",
    "cr = ClassicalRegister(3)\n",
    "qc = QuantumCircuit(qr, cr)\n",
    "\n",
    "sub_q1 = QuantumRegister(3)\n",
    "sub_circ1 = QuantumCircuit(sub_q1, name='increment')\n",
    "sub_circ1.ccx(sub_q1[2], sub_q1[1], sub_q1[0])\n",
    "sub_circ1.cx(sub_q1[2], sub_q1[1])\n",
    "sub_circ1.x(sub_q1[2])\n",
    "\n",
    "incr = sub_circ1.to_gate().control(1)\n",
    "\n",
    "\n",
    "sub_q2 = QuantumRegister(3)\n",
    "sub_circ2 = QuantumCircuit(sub_q2, name='decrement')\n",
    "sub_circ2.x(sub_q2[1])\n",
    "sub_circ2.x(sub_q2[2])\n",
    "sub_circ2.ccx(sub_q2[2], sub_q2[1], sub_q2[0])\n",
    "sub_circ2.x(sub_q2[1])\n",
    "sub_circ2.x(sub_q2[2])\n",
    "\n",
    "sub_circ2.x(sub_q2[2])\n",
    "sub_circ2.cx(sub_q2[2], sub_q2[1])\n",
    "sub_circ2.x(sub_q2[2])\n",
    "\n",
    "sub_circ2.x(sub_q2[2])\n",
    "\n",
    "decr = sub_circ2.to_gate().control(1)\n",
    "\n",
    "qc.x(0)\n",
    "qc.h(3)\n",
    "qc.append(incr, [qr[3], qr[0], qr[1], qr[2]])\n",
    "qc.x(3)\n",
    "qc.append(decr, [qr[3], qr[0], qr[1], qr[2]])\n",
    "qc.x(3)\n",
    "qc.measure([qr[2], qr[1], qr[0]], cr)\n",
    "\n",
    "# Get the results\n",
    "backend = BasicAer.get_backend('qasm_simulator')\n",
    "job = backend.run(transpile(qc, backend))\n",
    "results = job.result().get_counts(qc)\n",
    "draw(3, results)"
   ]
  },
  {
   "cell_type": "markdown",
   "id": "529df366",
   "metadata": {},
   "source": [
    "In this case, the distance away from the origin is much more clear. It is indeed showing a paranormal distribution. The simulation is run on a simulator. For a real quantum computer, the noise will make the distribution more smooth."
   ]
  },
  {
   "cell_type": "markdown",
   "id": "3f3fbc13",
   "metadata": {},
   "source": [
    "In order to explore the relationship between distribution and step numbers, we try different numbers."
   ]
  },
  {
   "cell_type": "code",
   "execution_count": 61,
   "id": "7a2e6d07",
   "metadata": {},
   "outputs": [],
   "source": [
    "# With more steps"
   ]
  },
  {
   "cell_type": "code",
   "execution_count": 62,
   "id": "9431a3d4",
   "metadata": {},
   "outputs": [],
   "source": [
    "# n = 6 incr and decr gates\n",
    "sub_q1 = QuantumRegister(6)\n",
    "sub_circ1 = QuantumCircuit(sub_q1, name='increment')\n",
    "sub_circ1.mcx([sub_q1[5], sub_q1[4], sub_q1[3], sub_q1[2], sub_q1[1]], sub_q1[0])\n",
    "sub_circ1.mcx([sub_q1[5], sub_q1[4], sub_q1[3], sub_q1[2]], sub_q1[1])\n",
    "sub_circ1.mcx([sub_q1[5], sub_q1[4], sub_q1[3]], sub_q1[2])\n",
    "sub_circ1.ccx(sub_q1[5], sub_q1[4], sub_q1[3])\n",
    "sub_circ1.cx(sub_q1[5], sub_q1[4])\n",
    "sub_circ1.x(sub_q1[5])\n",
    "\n",
    "incr = sub_circ1.to_gate().control(1)\n",
    "\n",
    "\n",
    "sub_q2 = QuantumRegister(6)\n",
    "sub_circ2 = QuantumCircuit(sub_q2, name='decrement')\n",
    "\n",
    "sub_circ2.x(sub_q2[5])\n",
    "sub_circ2.x(sub_q2[4])\n",
    "sub_circ2.x(sub_q2[3])\n",
    "sub_circ2.x(sub_q2[2])\n",
    "sub_circ2.x(sub_q2[1])\n",
    "sub_circ2.mcx([sub_q2[5], sub_q2[4], sub_q2[3], sub_q2[2], sub_q2[1]], sub_q2[0])\n",
    "sub_circ2.x(sub_q2[5])\n",
    "sub_circ2.x(sub_q2[4])\n",
    "sub_circ2.x(sub_q2[3])\n",
    "sub_circ2.x(sub_q2[2])\n",
    "sub_circ2.x(sub_q2[1])\n",
    "\n",
    "sub_circ2.x(sub_q2[5])\n",
    "sub_circ2.x(sub_q2[4])\n",
    "sub_circ2.x(sub_q2[3])\n",
    "sub_circ2.x(sub_q2[2])\n",
    "sub_circ2.mcx([sub_q2[5], sub_q2[4], sub_q2[3], sub_q2[2]], sub_q2[1])\n",
    "sub_circ2.x(sub_q2[5])\n",
    "sub_circ2.x(sub_q2[4])\n",
    "sub_circ2.x(sub_q2[3])\n",
    "sub_circ2.x(sub_q2[2])\n",
    "\n",
    "sub_circ2.x(sub_q2[5])\n",
    "sub_circ2.x(sub_q2[4])\n",
    "sub_circ2.x(sub_q2[3])\n",
    "sub_circ2.mcx([sub_q2[5], sub_q2[4], sub_q2[3]], sub_q2[2])\n",
    "sub_circ2.x(sub_q2[5])\n",
    "sub_circ2.x(sub_q2[4])\n",
    "sub_circ2.x(sub_q2[3])\n",
    "\n",
    "sub_circ2.x(sub_q2[5])\n",
    "sub_circ2.x(sub_q2[4])\n",
    "sub_circ2.ccx(sub_q2[5], sub_q2[4], sub_q2[3])\n",
    "sub_circ2.x(sub_q2[5])\n",
    "sub_circ2.x(sub_q2[4])\n",
    "\n",
    "sub_circ2.x(sub_q2[5])\n",
    "sub_circ2.cx(sub_q2[5], sub_q2[4])\n",
    "sub_circ2.x(sub_q2[5])\n",
    "\n",
    "sub_circ2.x(sub_q2[5])\n",
    "\n",
    "decr = sub_circ2.to_gate().control(1)"
   ]
  },
  {
   "cell_type": "code",
   "execution_count": 63,
   "id": "7cd40926",
   "metadata": {},
   "outputs": [],
   "source": [
    "qr = QuantumRegister(7) \n",
    "cr = ClassicalRegister(6)\n",
    "qc = QuantumCircuit(qr, cr)\n",
    "\n",
    "qc.x(0)\n",
    "qc.h(6)\n",
    "\n",
    "for temp3 in range(30):  # The step number can be changed here.\n",
    "    qc.append(incr, [qr[6], qr[0], qr[1], qr[2], qr[3], qr[4], qr[5]]) \n",
    "    qc.x(6)\n",
    "    qc.append(decr, [qr[6], qr[0], qr[1], qr[2], qr[3], qr[4], qr[5]])\n",
    "    qc.x(6)"
   ]
  },
  {
   "cell_type": "code",
   "execution_count": 64,
   "id": "8a3998a6",
   "metadata": {},
   "outputs": [
    {
     "data": {
      "text/plain": [
       "<qiskit.circuit.instructionset.InstructionSet at 0x1fd72b48be0>"
      ]
     },
     "execution_count": 64,
     "metadata": {},
     "output_type": "execute_result"
    }
   ],
   "source": [
    "qc.measure([qr[5], qr[4], qr[3], qr[2], qr[1], qr[0]], cr)"
   ]
  },
  {
   "cell_type": "code",
   "execution_count": 103,
   "id": "c81bba07",
   "metadata": {},
   "outputs": [
    {
     "name": "stdout",
     "output_type": "stream",
     "text": [
      "{'111110': 497, '000010': 527}\n"
     ]
    }
   ],
   "source": [
    "backend = BasicAer.get_backend('qasm_simulator')\n",
    "job = backend.run(transpile(qc, backend))\n",
    "results = job.result().get_counts(qc)\n",
    "print(results)"
   ]
  },
  {
   "cell_type": "code",
   "execution_count": 104,
   "id": "1cb70b36",
   "metadata": {},
   "outputs": [
    {
     "data": {
      "text/plain": [
       "([<matplotlib.axis.XTick at 0x21f2ed44ee0>,\n",
       "  <matplotlib.axis.XTick at 0x21f2ed44f10>,\n",
       "  <matplotlib.axis.XTick at 0x21f1b0cbe80>,\n",
       "  <matplotlib.axis.XTick at 0x21f25218250>,\n",
       "  <matplotlib.axis.XTick at 0x21f25218eb0>,\n",
       "  <matplotlib.axis.XTick at 0x21f25203460>,\n",
       "  <matplotlib.axis.XTick at 0x21f25218d90>,\n",
       "  <matplotlib.axis.XTick at 0x21f25203790>,\n",
       "  <matplotlib.axis.XTick at 0x21f251fc130>],\n",
       " [Text(0, 0, ''),\n",
       "  Text(0, 0, ''),\n",
       "  Text(0, 0, ''),\n",
       "  Text(0, 0, ''),\n",
       "  Text(0, 0, ''),\n",
       "  Text(0, 0, ''),\n",
       "  Text(0, 0, ''),\n",
       "  Text(0, 0, ''),\n",
       "  Text(0, 0, '')])"
      ]
     },
     "execution_count": 104,
     "metadata": {},
     "output_type": "execute_result"
    },
    {
     "data": {
      "image/png": "[encoded data removed]",
      "text/plain": [
       "<Figure size 640x480 with 1 Axes>"
      ]
     },
     "metadata": {},
     "output_type": "display_data"
    }
   ],
   "source": [
    "draw(6, results)\n",
    "plt.xticks(np.linspace(0, 64, 9))"
   ]
  },
  {
   "cell_type": "markdown",
   "id": "dfd37448",
   "metadata": {},
   "source": [
    "By experimenting differnet step numbers, we find out that for the paranormal distribution, the peak's distance from the origin is equal to the origin. A comparion is given below (step number = 4, 8, 12, 16, 20, 24)"
   ]
  },
  {
   "cell_type": "markdown",
   "id": "6123fdab",
   "metadata": {},
   "source": [
    "(Note: This is a filed graph. I am working on how to fix it.)"
   ]
  },
  {
   "cell_type": "code",
   "execution_count": 74,
   "id": "f3cb5513",
   "metadata": {},
   "outputs": [
    {
     "data": {
      "text/plain": [
       "<matplotlib.legend.Legend at 0x1fd72d82550>"
      ]
     },
     "execution_count": 74,
     "metadata": {},
     "output_type": "execute_result"
    },
    {
     "data": {
      "image/png": "[encoded data removed]",
      "text/plain": [
       "<Figure size 640x480 with 1 Axes>"
      ]
     },
     "metadata": {},
     "output_type": "display_data"
    }
   ],
   "source": [
    "# This is a comparion between the distributino of different step numbers (4, 8, 12, 16, 20, 24)\n",
    "# Data are collected with the above example codes\n",
    "# The keys' values in the dictionary have been transformed into decimal number for demonstration convenience\n",
    "step4 = {'28': 505, '36': 519}\n",
    "step8 = {'24': 536, '40': 488}\n",
    "step12 = {'20': 508, '44': 516}\n",
    "step16 = {'16': 527, '48': 497}\n",
    "step20 = {'12': 502, '52': 522}\n",
    "step24 = {'8': 503, '60': 521}\n",
    "\n",
    "\n",
    "plt.bar(empty.keys(), empty.values())\n",
    "plt.bar(step4.keys(), step4.values())\n",
    "plt.bar(step8.keys(), step8.values())\n",
    "plt.bar(step12.keys(), step12.values())\n",
    "plt.bar(step16.keys(), step16.values())\n",
    "plt.bar(step20.keys(), step20.values())\n",
    "plt.bar(step24.keys(), step24.values())\n",
    "plt.legend(['step4', 'step8', 'step12', 'step16', 'step20', 'step24'])"
   ]
  },
  {
   "cell_type": "markdown",
   "id": "4f0946e1",
   "metadata": {},
   "source": [
    "## Biased Quantum Random Walk"
   ]
  },
  {
   "cell_type": "markdown",
   "id": "12ddadcc",
   "metadata": {},
   "source": [
    "Biased Random Walk is really not much different from the one we have just discussed. The only difference is the probability p to go right is no longer 0.5. A classic algorithm and examples are given:"
   ]
  },
  {
   "cell_type": "code",
   "execution_count": 75,
   "id": "d07c51b6",
   "metadata": {
    "scrolled": false
   },
   "outputs": [
    {
     "data": {
      "text/plain": [
       "<BarContainer object of 101 artists>"
      ]
     },
     "execution_count": 75,
     "metadata": {},
     "output_type": "execute_result"
    },
    {
     "data": {
      "image/png": "[encoded data removed]",
      "text/plain": [
       "<Figure size 640x480 with 1 Axes>"
      ]
     },
     "metadata": {},
     "output_type": "display_data"
    }
   ],
   "source": [
    "# Classic Codes\n",
    "disrange = np.linspace(-50, 50, 101)\n",
    "findistance = {key: 0 for key in disrange}\n",
    "groupnumber = 1000\n",
    "trialnumber = 50\n",
    "for temp1 in range(groupnumber):\n",
    "    distance = 0\n",
    "    for temp2 in range(trialnumber):\n",
    "        coin = random.randint(1, 100)\n",
    "        if coin <=  40: # Suppose the possibility to go right is p (in percent), the number here and below is 100 - p\n",
    "            distance -= 1 \n",
    "        elif coin >= 40:\n",
    "            distance += 1\n",
    "    findistance[distance] += 1\n",
    "\n",
    "plt.bar(findistance.keys(), findistance.values())"
   ]
  },
  {
   "cell_type": "markdown",
   "id": "d04f2d8c",
   "metadata": {},
   "source": [
    "The classic code return a normal distribution with center line moving to the right as expected."
   ]
  },
  {
   "cell_type": "markdown",
   "id": "ff08a758",
   "metadata": {},
   "source": [
    "For quantum codes, it is a little bit more complicated. We need to use U gate to complete the probability, not the H gate. This is the mathematics procedures to get the correct parameter for the U gates."
   ]
  },
  {
   "cell_type": "markdown",
   "id": "80f5cfc9",
   "metadata": {},
   "source": [
    "The qubit is initialized as 0, which has a vector form\n",
    "$\n",
    "\\begin{pmatrix}\n",
    "1 \\\\\n",
    "0\n",
    "\\end{pmatrix}\n",
    "$\n",
    "and the U gate in general form\n",
    "$\n",
    "\\begin{pmatrix}\n",
    "\\cos(\\frac{\\theta}{2}) & -e^{i\\lambda}\\sin(\\frac{\\theta}{2}) \\\\\n",
    "e^{i\\phi}\\sin(\\frac{\\theta}{2}) & e^{i(\\phi+\\lambda}\\cos(\\frac{\\theta}{2})\n",
    "\\end{pmatrix}\n",
    "$\n",
    "By performing matrix multiplication, we can get the general form of a vector:\n",
    "\n",
    "$$\n",
    "|\\psi\\rangle\n",
    "=\n",
    "\\begin{pmatrix}\n",
    "\\cos(\\frac{\\theta}{2}) & -e^{i\\lambda}\\sin(\\frac{\\theta}{2}) \\\\\n",
    "e^{i\\phi}\\sin(\\frac{\\theta}{2}) & e^{i(\\phi+\\lambda}\\cos(\\frac{\\theta}{2})\n",
    "\\end{pmatrix}\n",
    "\\begin{pmatrix}\n",
    "1 \\\\\n",
    "0\n",
    "\\end{pmatrix}\n",
    "=\n",
    "\\begin{pmatrix}\n",
    "\\cos(\\frac{\\theta}{2})\\\\\n",
    "e^{i\\phi}\\sin(\\frac{\\theta}{2})\n",
    "\\end{pmatrix}\n",
    "$$\n",
    "\n",
    "We want the possibility to go right(take a value 1) is P and the possibility to go left(take a value 0) is 1-P, so we need the qubit to be measured as 1 with possibility P, and therefore possibilty amplitude $\\sqrt{P}$, meaning that:\n",
    "$$\n",
    "\\begin{pmatrix}\n",
    "\\cos(\\frac{\\theta}{2})\\\\\n",
    "e^{i\\phi}\\sin(\\frac{\\theta}{2})\n",
    "\\end{pmatrix}\n",
    "=\n",
    "\\begin{pmatrix}\n",
    "\\sqrt{1-P} \\\\\n",
    "\\sqrt{P}\n",
    "\\end{pmatrix}\n",
    "$$\n",
    "The equation gives us that\n",
    "$$\n",
    "\\theta = 2\\arccos(\\sqrt{1-P})\n",
    "$$\n",
    "while $\\phi$ and $\\lambda$ can be any numbers. As a result, we need a U gate that looks like this $U(2\\arccos(\\sqrt{1-P}), 0, 0)$"
   ]
  },
  {
   "cell_type": "markdown",
   "id": "a7d4bfbd",
   "metadata": {},
   "source": [
    "For now, I will skip the generalized part since it is so similiar to the non-biased case, only changing qc.h(n) to qc.u(2 * np.arccos(np.sqrt(1 - P)), 0, 0, qr[n]). P stands for the possibility to go right."
   ]
  },
  {
   "cell_type": "markdown",
   "id": "97c385d4",
   "metadata": {},
   "source": [
    "Below is a 2-step example of biased random walk. The possibility to go right is 0.6. Circuit with different possibility and step numbers can be produces with experience stated before."
   ]
  },
  {
   "cell_type": "code",
   "execution_count": 77,
   "id": "9ea0f699",
   "metadata": {},
   "outputs": [
    {
     "data": {
      "text/plain": [
       "<qiskit.circuit.instructionset.InstructionSet at 0x1fd73f6c130>"
      ]
     },
     "execution_count": 77,
     "metadata": {},
     "output_type": "execute_result"
    }
   ],
   "source": [
    "# P is 40(0) - 60(1)\n",
    "# Method 1: Reset and Reinitialize U gate\n",
    "qr = QuantumRegister(4)\n",
    "cr = ClassicalRegister(3)\n",
    "qc = QuantumCircuit(qr, cr)\n",
    "\n",
    "\n",
    "sub_q1 = QuantumRegister(3)\n",
    "sub_circ1 = QuantumCircuit(sub_q1, name='increment')\n",
    "sub_circ1.ccx(sub_q1[2], sub_q1[1], sub_q1[0])\n",
    "sub_circ1.cx(sub_q1[2], sub_q1[1])\n",
    "sub_circ1.x(sub_q1[2])\n",
    "\n",
    "incr = sub_circ1.to_gate().control(1)\n",
    "\n",
    "\n",
    "sub_q2 = QuantumRegister(3)\n",
    "sub_circ2 = QuantumCircuit(sub_q2, name='decrement')\n",
    "sub_circ2.x(sub_q2[1])\n",
    "sub_circ2.x(sub_q2[2])\n",
    "sub_circ2.ccx(sub_q2[2], sub_q2[1], sub_q2[0])\n",
    "sub_circ2.x(sub_q2[1])\n",
    "sub_circ2.x(sub_q2[2])\n",
    "\n",
    "sub_circ2.x(sub_q2[2])\n",
    "sub_circ2.cx(sub_q2[2], sub_q2[1])\n",
    "sub_circ2.x(sub_q2[2])\n",
    "\n",
    "sub_circ2.x(sub_q2[2])\n",
    "\n",
    "decr = sub_circ2.to_gate().control(1)\n",
    "\n",
    "qc.x(0)\n",
    "qc.u(2 * np.arccos(np.sqrt(0.4)), 0, 0, qr[3])\n",
    "qc.append(incr, [qr[3], qr[0], qr[1], qr[2]])\n",
    "qc.x(3)\n",
    "qc.append(decr, [qr[3], qr[0], qr[1], qr[2]])\n",
    "qc.x(3)\n",
    "\n",
    "qc.append(incr, [qr[3], qr[0], qr[1], qr[2]])\n",
    "qc.x(3)\n",
    "qc.append(decr, [qr[3], qr[0], qr[1], qr[2]])\n",
    "qc.x(3)"
   ]
  },
  {
   "cell_type": "code",
   "execution_count": 78,
   "id": "66b25860",
   "metadata": {},
   "outputs": [
    {
     "data": {
      "text/plain": [
       "<qiskit.circuit.instructionset.InstructionSet at 0x1fd740c0430>"
      ]
     },
     "execution_count": 78,
     "metadata": {},
     "output_type": "execute_result"
    }
   ],
   "source": [
    "qc.measure([qr[2], qr[1], qr[0]], cr)"
   ]
  },
  {
   "cell_type": "code",
   "execution_count": 79,
   "id": "6c45df67",
   "metadata": {},
   "outputs": [
    {
     "data": {
      "image/png": "[encoded data removed]",
      "text/plain": [
       "<Figure size 1494.51x451.5 with 1 Axes>"
      ]
     },
     "execution_count": 79,
     "metadata": {},
     "output_type": "execute_result"
    }
   ],
   "source": [
    "qc.draw('mpl')"
   ]
  },
  {
   "cell_type": "code",
   "execution_count": 80,
   "id": "c8eab208",
   "metadata": {},
   "outputs": [
    {
     "name": "stdout",
     "output_type": "stream",
     "text": [
      "{'010': 411, '110': 613}\n"
     ]
    }
   ],
   "source": [
    "backend = BasicAer.get_backend('qasm_simulator')\n",
    "job = backend.run(transpile(qc, backend))\n",
    "results = job.result().get_counts(qc)\n",
    "print(results)"
   ]
  },
  {
   "cell_type": "code",
   "execution_count": 81,
   "id": "744bcbd1",
   "metadata": {},
   "outputs": [
    {
     "data": {
      "image/png": "[encoded data removed]",
      "text/plain": [
       "<Figure size 640x480 with 1 Axes>"
      ]
     },
     "metadata": {},
     "output_type": "display_data"
    }
   ],
   "source": [
    "draw(3, results)"
   ]
  },
  {
   "cell_type": "markdown",
   "id": "1bd8b5bb",
   "metadata": {},
   "source": [
    "The quantum code return the distribution expected."
   ]
  },
  {
   "cell_type": "markdown",
   "id": "995a9f3e",
   "metadata": {},
   "source": [
    "## 2-step Biased Quantum Random Walk, each step with different probability"
   ]
  },
  {
   "cell_type": "markdown",
   "id": "82bbbaeb",
   "metadata": {},
   "source": [
    "This method is discussed as an experiment of solving master equation with quantum random walks.For simplicity, when discussing the question, the maximum distance is restricted to 4 and the step number is restricted to 2 (each step with different possibility to go left and right)."
   ]
  },
  {
   "cell_type": "markdown",
   "id": "83233da9",
   "metadata": {},
   "source": [
    "As usual, we give the classic algorithm as a 'control group'. The code is different from the baised one in the way that, after each 'coin toss'. The coin value will be compared twice (each with different possibility) to make moves."
   ]
  },
  {
   "cell_type": "code",
   "execution_count": 6,
   "id": "b3b9f833",
   "metadata": {},
   "outputs": [
    {
     "data": {
      "text/plain": [
       "<BarContainer object of 201 artists>"
      ]
     },
     "execution_count": 6,
     "metadata": {},
     "output_type": "execute_result"
    },
    {
     "data": {
      "image/png": "[encoded data removed]",
      "text/plain": [
       "<Figure size 640x480 with 1 Axes>"
      ]
     },
     "metadata": {},
     "output_type": "display_data"
    }
   ],
   "source": [
    "# Classic Version\n",
    "# First step is 40(0) - 60(1), second step is 30(0) - 70(1)\n",
    "disrange = np.linspace(-100, 100, 201)\n",
    "findistance = {key: 0 for key in disrange}\n",
    "groupnumber = 10000\n",
    "trialnumber = 100\n",
    "for temp1 in range(groupnumber):\n",
    "    distance = 0\n",
    "    for temp2 in range(trialnumber):\n",
    "        coin = random.randint(0, 10)\n",
    "        if coin <= 4: # Probability to go right is 100% - 40% = 60%\n",
    "            distance -= 1 \n",
    "        elif coin > 4:\n",
    "            distance += 1\n",
    "        \n",
    "        coin = random.randint(0, 10)\n",
    "        if coin <= 3: # Probability to go right is 100% - 30% = 70%\n",
    "            distance -= 1\n",
    "        elif coin > 3:\n",
    "            distance += 1\n",
    "    \n",
    "    findistance[distance] += 1\n",
    "\n",
    "plt.bar(findistance.keys(), findistance.values())"
   ]
  },
  {
   "cell_type": "markdown",
   "id": "1488f18f",
   "metadata": {},
   "source": [
    "For quantum circuits, we give two methods to implement the task."
   ]
  },
  {
   "cell_type": "markdown",
   "id": "8c3349f6",
   "metadata": {},
   "source": [
    "First, initialize the increment and decrement gate as usual."
   ]
  },
  {
   "cell_type": "code",
   "execution_count": 7,
   "id": "62805434",
   "metadata": {},
   "outputs": [],
   "source": [
    "sub_q1 = QuantumRegister(3)\n",
    "sub_circ1 = QuantumCircuit(sub_q1, name='increment')\n",
    "sub_circ1.ccx(sub_q1[2], sub_q1[1], sub_q1[0])\n",
    "sub_circ1.cx(sub_q1[2], sub_q1[1])\n",
    "sub_circ1.x(sub_q1[2])\n",
    "\n",
    "incr = sub_circ1.to_gate().control(1)\n",
    "\n",
    "\n",
    "sub_q2 = QuantumRegister(3)\n",
    "sub_circ2 = QuantumCircuit(sub_q2, name='decrement')\n",
    "sub_circ2.x(sub_q2[1])\n",
    "sub_circ2.x(sub_q2[2])\n",
    "sub_circ2.ccx(sub_q2[2], sub_q2[1], sub_q2[0])\n",
    "sub_circ2.x(sub_q2[1])\n",
    "sub_circ2.x(sub_q2[2])\n",
    "\n",
    "sub_circ2.x(sub_q2[2])\n",
    "sub_circ2.cx(sub_q2[2], sub_q2[1])\n",
    "sub_circ2.x(sub_q2[2])\n",
    "\n",
    "sub_circ2.x(sub_q2[2])\n",
    "\n",
    "decr = sub_circ2.to_gate().control(1)"
   ]
  },
  {
   "cell_type": "markdown",
   "id": "6bafc579",
   "metadata": {},
   "source": [
    "For the first method, after we make one step, we reset the 'coin qubit' and reinitialize it with our new possibility. Codes and results follows:"
   ]
  },
  {
   "cell_type": "code",
   "execution_count": 8,
   "id": "5305dad0",
   "metadata": {},
   "outputs": [
    {
     "data": {
      "text/plain": [
       "<qiskit.circuit.instructionset.InstructionSet at 0x2ab4c6d0d30>"
      ]
     },
     "execution_count": 8,
     "metadata": {},
     "output_type": "execute_result"
    }
   ],
   "source": [
    "# First step is 40(0) - 60(1), second step is 30(0) - 70(1)\n",
    "# Method 1: Reset and Reinitialize U gate\n",
    "qr = QuantumRegister(4)\n",
    "cr = ClassicalRegister(3)\n",
    "qc = QuantumCircuit(qr, cr)\n",
    "\n",
    "\n",
    "qc.x(0)\n",
    "qc.u(2 * np.arccos(np.sqrt(0.4)), 0, 0, qr[3])\n",
    "qc.append(incr, [qr[3], qr[0], qr[1], qr[2]])\n",
    "qc.x(3)\n",
    "qc.append(decr, [qr[3], qr[0], qr[1], qr[2]])\n",
    "qc.x(3)\n",
    "\n",
    "qc.reset(3)\n",
    "qc.u(2 * np.arccos(np.sqrt(0.3)), 0, 0, qr[3])\n",
    "qc.append(incr, [qr[3], qr[0], qr[1], qr[2]])\n",
    "qc.x(3)\n",
    "qc.append(decr, [qr[3], qr[0], qr[1], qr[2]])\n",
    "qc.x(3)"
   ]
  },
  {
   "cell_type": "code",
   "execution_count": 9,
   "id": "8832e66c",
   "metadata": {},
   "outputs": [
    {
     "data": {
      "text/plain": [
       "<qiskit.circuit.instructionset.InstructionSet at 0x2ab4c772a60>"
      ]
     },
     "execution_count": 9,
     "metadata": {},
     "output_type": "execute_result"
    }
   ],
   "source": [
    "qc.measure([qr[2], qr[1], qr[0]], cr)"
   ]
  },
  {
   "cell_type": "code",
   "execution_count": 10,
   "id": "4d4c6568",
   "metadata": {},
   "outputs": [
    {
     "data": {
      "image/png": "[encoded data removed]",
      "text/plain": [
       "<Figure size 1643.71x451.5 with 1 Axes>"
      ]
     },
     "execution_count": 10,
     "metadata": {},
     "output_type": "execute_result"
    }
   ],
   "source": [
    "qc.draw('mpl')"
   ]
  },
  {
   "cell_type": "code",
   "execution_count": 11,
   "id": "a4519fee",
   "metadata": {},
   "outputs": [
    {
     "name": "stdout",
     "output_type": "stream",
     "text": [
      "{'110': 428, '100': 481, '010': 115}\n"
     ]
    }
   ],
   "source": [
    "backend = BasicAer.get_backend('qasm_simulator')\n",
    "job = backend.run(transpile(qc, backend))\n",
    "results = job.result().get_counts(qc)\n",
    "print(results)"
   ]
  },
  {
   "cell_type": "code",
   "execution_count": 12,
   "id": "f2d5bdc5",
   "metadata": {
    "scrolled": false
   },
   "outputs": [
    {
     "data": {
      "image/png": "[encoded data removed]",
      "text/plain": [
       "<Figure size 640x480 with 1 Axes>"
      ]
     },
     "metadata": {},
     "output_type": "display_data"
    }
   ],
   "source": [
    "draw(3, results)"
   ]
  },
  {
   "cell_type": "markdown",
   "id": "006888af",
   "metadata": {},
   "source": [
    "For the second method, We use two qubits to represent two different probabilities. In this way, we may avoid the errors brought in by the reset qubit (It is also possible that the reset move will NOT bring errors to the qubit)."
   ]
  },
  {
   "cell_type": "code",
   "execution_count": 13,
   "id": "4177fdc2",
   "metadata": {},
   "outputs": [
    {
     "data": {
      "text/plain": [
       "<qiskit.circuit.instructionset.InstructionSet at 0x2ab4d74cbb0>"
      ]
     },
     "execution_count": 13,
     "metadata": {},
     "output_type": "execute_result"
    }
   ],
   "source": [
    "# First step is 40(0) - 60(1), second step is 30(0) - 70(1)\n",
    "# Method 2: Different U gates on different qubits\n",
    "qr = QuantumRegister(5)\n",
    "cr = ClassicalRegister(3)\n",
    "qc = QuantumCircuit(qr, cr)\n",
    "\n",
    "\n",
    "qc.x(0)\n",
    "qc.u(2 * np.arccos(np.sqrt(0.4)), 0, 0, qr[3])\n",
    "qc.append(incr, [qr[3], qr[0], qr[1], qr[2]])\n",
    "qc.x(3)\n",
    "qc.append(decr, [qr[3], qr[0], qr[1], qr[2]])\n",
    "qc.x(3)\n",
    "\n",
    "qc.u(2 * np.arccos(np.sqrt(0.3)), 0, 0, qr[4])\n",
    "qc.append(incr, [qr[4], qr[0], qr[1], qr[2]])\n",
    "qc.x(4)\n",
    "qc.append(decr, [qr[4], qr[0], qr[1], qr[2]])\n",
    "qc.x(4)"
   ]
  },
  {
   "cell_type": "code",
   "execution_count": 14,
   "id": "4f775837",
   "metadata": {},
   "outputs": [
    {
     "data": {
      "text/plain": [
       "<qiskit.circuit.instructionset.InstructionSet at 0x2ab4cc8fd60>"
      ]
     },
     "execution_count": 14,
     "metadata": {},
     "output_type": "execute_result"
    }
   ],
   "source": [
    "qc.measure([qr[2], qr[1], qr[0]], cr)"
   ]
  },
  {
   "cell_type": "code",
   "execution_count": 15,
   "id": "f64d67e3",
   "metadata": {},
   "outputs": [
    {
     "data": {
      "image/png": "[encoded data removed]",
      "text/plain": [
       "<Figure size 1494.51x535.111 with 1 Axes>"
      ]
     },
     "execution_count": 15,
     "metadata": {},
     "output_type": "execute_result"
    }
   ],
   "source": [
    "qc.draw('mpl')"
   ]
  },
  {
   "cell_type": "code",
   "execution_count": 16,
   "id": "efa1221d",
   "metadata": {},
   "outputs": [
    {
     "name": "stdout",
     "output_type": "stream",
     "text": [
      "{'100': 436, '110': 459, '010': 129}\n"
     ]
    }
   ],
   "source": [
    "backend = BasicAer.get_backend('qasm_simulator')\n",
    "job = backend.run(transpile(qc, backend))\n",
    "results = job.result().get_counts(qc)\n",
    "print(results)"
   ]
  },
  {
   "cell_type": "code",
   "execution_count": 17,
   "id": "162764db",
   "metadata": {},
   "outputs": [
    {
     "data": {
      "image/png": "[encoded data removed]",
      "text/plain": [
       "<Figure size 640x480 with 1 Axes>"
      ]
     },
     "metadata": {},
     "output_type": "display_data"
    }
   ],
   "source": [
    "draw(3, results)"
   ]
  }
 ],
 "metadata": {
  "kernelspec": {
   "display_name": "Python 3 (ipykernel)",
   "language": "python",
   "name": "python3"
  },
  "language_info": {
   "codemirror_mode": {
    "name": "ipython",
    "version": 3
   },
   "file_extension": ".py",
   "mimetype": "text/x-python",
   "name": "python",
   "nbconvert_exporter": "python",
   "pygments_lexer": "ipython3",
   "version": "3.9.13"
  }
 },
 "nbformat": 4,
 "nbformat_minor": 5
}
